{
  "nbformat": 4,
  "nbformat_minor": 0,
  "metadata": {
    "colab": {
      "name": "iface.ipynb",
      "version": "0.3.2",
      "provenance": [],
      "collapsed_sections": [],
      "include_colab_link": true
    },
    "kernelspec": {
      "name": "python2",
      "display_name": "Python 2"
    },
    "accelerator": "GPU"
  },
  "cells": [
    {
      "cell_type": "markdown",
      "metadata": {
        "id": "view-in-github",
        "colab_type": "text"
      },
      "source": [
        "<a href=\"https://colab.research.google.com/github/zhangjunli177/kdd2009-nokia/blob/master/iface.ipynb\" target=\"_parent\"><img src=\"https://colab.research.google.com/assets/colab-badge.svg\" alt=\"Open In Colab\"/></a>"
      ]
    },
    {
      "cell_type": "markdown",
      "metadata": {
        "id": "jEJK0gre4N0b",
        "colab_type": "text"
      },
      "source": [
        "# check system info\n",
        "\n",
        "\n",
        "1.   GPU info\n",
        "*   only one GPU available\n",
        "*   Tesla T4, 14G memory in GPU\n",
        "2.   CPU info\n",
        "*   2 cpu cores\n",
        "3.   Mem\n",
        "*   13G memory\n",
        "4.   OS type\n",
        "*   Ubuntu18.04"
      ]
    },
    {
      "cell_type": "code",
      "metadata": {
        "id": "jMRY3Voc4X1k",
        "colab_type": "code",
        "outputId": "20803e87-25e5-414f-c6c0-bea228a0e1a4",
        "colab": {
          "base_uri": "https://localhost:8080/",
          "height": 34
        }
      },
      "source": [
        "import tensorflow as tf\n",
        "tf.test.gpu_device_name()"
      ],
      "execution_count": 0,
      "outputs": [
        {
          "output_type": "execute_result",
          "data": {
            "text/plain": [
              "'/device:GPU:0'"
            ]
          },
          "metadata": {
            "tags": []
          },
          "execution_count": 1
        }
      ]
    },
    {
      "cell_type": "code",
      "metadata": {
        "id": "OLj_jBtM4lKn",
        "colab_type": "code",
        "outputId": "354bef29-3894-4da9-8d65-1185d6efc1c0",
        "colab": {
          "base_uri": "https://localhost:8080/",
          "height": 476
        }
      },
      "source": [
        "from tensorflow.python.client import device_lib\n",
        "device_lib.list_local_devices()"
      ],
      "execution_count": 0,
      "outputs": [
        {
          "output_type": "execute_result",
          "data": {
            "text/plain": [
              "[name: \"/device:CPU:0\"\n",
              " device_type: \"CPU\"\n",
              " memory_limit: 268435456\n",
              " locality {\n",
              " }\n",
              " incarnation: 3545164158028643255, name: \"/device:XLA_CPU:0\"\n",
              " device_type: \"XLA_CPU\"\n",
              " memory_limit: 17179869184\n",
              " locality {\n",
              " }\n",
              " incarnation: 12683919110450764840\n",
              " physical_device_desc: \"device: XLA_CPU device\", name: \"/device:XLA_GPU:0\"\n",
              " device_type: \"XLA_GPU\"\n",
              " memory_limit: 17179869184\n",
              " locality {\n",
              " }\n",
              " incarnation: 275420906478373396\n",
              " physical_device_desc: \"device: XLA_GPU device\", name: \"/device:GPU:0\"\n",
              " device_type: \"GPU\"\n",
              " memory_limit: 14892338381\n",
              " locality {\n",
              "   bus_id: 1\n",
              "   links {\n",
              "   }\n",
              " }\n",
              " incarnation: 392273080095619128\n",
              " physical_device_desc: \"device: 0, name: Tesla T4, pci bus id: 0000:00:04.0, compute capability: 7.5\"]"
            ]
          },
          "metadata": {
            "tags": []
          },
          "execution_count": 2
        }
      ]
    },
    {
      "cell_type": "code",
      "metadata": {
        "id": "pv7WpPCb5Rym",
        "colab_type": "code",
        "outputId": "c469e3bc-ddb8-4d31-f505-627e9eb4cb09",
        "colab": {
          "base_uri": "https://localhost:8080/",
          "height": 1000
        }
      },
      "source": [
        "!cat /proc/cpuinfo\n",
        "!cat /proc/meminfo"
      ],
      "execution_count": 0,
      "outputs": [
        {
          "output_type": "stream",
          "text": [
            "processor\t: 0\n",
            "vendor_id\t: GenuineIntel\n",
            "cpu family\t: 6\n",
            "model\t\t: 79\n",
            "model name\t: Intel(R) Xeon(R) CPU @ 2.20GHz\n",
            "stepping\t: 0\n",
            "microcode\t: 0x1\n",
            "cpu MHz\t\t: 2200.000\n",
            "cache size\t: 56320 KB\n",
            "physical id\t: 0\n",
            "siblings\t: 2\n",
            "core id\t\t: 0\n",
            "cpu cores\t: 1\n",
            "apicid\t\t: 0\n",
            "initial apicid\t: 0\n",
            "fpu\t\t: yes\n",
            "fpu_exception\t: yes\n",
            "cpuid level\t: 13\n",
            "wp\t\t: yes\n",
            "flags\t\t: fpu vme de pse tsc msr pae mce cx8 apic sep mtrr pge mca cmov pat pse36 clflush mmx fxsr sse sse2 ss ht syscall nx pdpe1gb rdtscp lm constant_tsc rep_good nopl xtopology nonstop_tsc cpuid tsc_known_freq pni pclmulqdq ssse3 fma cx16 pcid sse4_1 sse4_2 x2apic movbe popcnt aes xsave avx f16c rdrand hypervisor lahf_lm abm 3dnowprefetch invpcid_single pti ssbd ibrs ibpb stibp fsgsbase tsc_adjust bmi1 hle avx2 smep bmi2 erms invpcid rtm rdseed adx smap xsaveopt arat arch_capabilities\n",
            "bugs\t\t: cpu_meltdown spectre_v1 spectre_v2 spec_store_bypass l1tf\n",
            "bogomips\t: 4400.00\n",
            "clflush size\t: 64\n",
            "cache_alignment\t: 64\n",
            "address sizes\t: 46 bits physical, 48 bits virtual\n",
            "power management:\n",
            "\n",
            "processor\t: 1\n",
            "vendor_id\t: GenuineIntel\n",
            "cpu family\t: 6\n",
            "model\t\t: 79\n",
            "model name\t: Intel(R) Xeon(R) CPU @ 2.20GHz\n",
            "stepping\t: 0\n",
            "microcode\t: 0x1\n",
            "cpu MHz\t\t: 2200.000\n",
            "cache size\t: 56320 KB\n",
            "physical id\t: 0\n",
            "siblings\t: 2\n",
            "core id\t\t: 0\n",
            "cpu cores\t: 1\n",
            "apicid\t\t: 1\n",
            "initial apicid\t: 1\n",
            "fpu\t\t: yes\n",
            "fpu_exception\t: yes\n",
            "cpuid level\t: 13\n",
            "wp\t\t: yes\n",
            "flags\t\t: fpu vme de pse tsc msr pae mce cx8 apic sep mtrr pge mca cmov pat pse36 clflush mmx fxsr sse sse2 ss ht syscall nx pdpe1gb rdtscp lm constant_tsc rep_good nopl xtopology nonstop_tsc cpuid tsc_known_freq pni pclmulqdq ssse3 fma cx16 pcid sse4_1 sse4_2 x2apic movbe popcnt aes xsave avx f16c rdrand hypervisor lahf_lm abm 3dnowprefetch invpcid_single pti ssbd ibrs ibpb stibp fsgsbase tsc_adjust bmi1 hle avx2 smep bmi2 erms invpcid rtm rdseed adx smap xsaveopt arat arch_capabilities\n",
            "bugs\t\t: cpu_meltdown spectre_v1 spectre_v2 spec_store_bypass l1tf\n",
            "bogomips\t: 4400.00\n",
            "clflush size\t: 64\n",
            "cache_alignment\t: 64\n",
            "address sizes\t: 46 bits physical, 48 bits virtual\n",
            "power management:\n",
            "\n",
            "MemTotal:       13335276 kB\n",
            "MemFree:        10596812 kB\n",
            "MemAvailable:   12384448 kB\n",
            "Buffers:           70988 kB\n",
            "Cached:          1861968 kB\n",
            "SwapCached:            0 kB\n",
            "Active:           657008 kB\n",
            "Inactive:        1680756 kB\n",
            "Active(anon):     367228 kB\n",
            "Inactive(anon):     4444 kB\n",
            "Active(file):     289780 kB\n",
            "Inactive(file):  1676312 kB\n",
            "Unevictable:           0 kB\n",
            "Mlocked:               0 kB\n",
            "SwapTotal:             0 kB\n",
            "SwapFree:              0 kB\n",
            "Dirty:               364 kB\n",
            "Writeback:             0 kB\n",
            "AnonPages:        404844 kB\n",
            "Mapped:           382228 kB\n",
            "Shmem:              5008 kB\n",
            "Slab:             165616 kB\n",
            "SReclaimable:     125184 kB\n",
            "SUnreclaim:        40432 kB\n",
            "KernelStack:        4080 kB\n",
            "PageTables:         5884 kB\n",
            "NFS_Unstable:          0 kB\n",
            "Bounce:                0 kB\n",
            "WritebackTmp:          0 kB\n",
            "CommitLimit:     6667636 kB\n",
            "Committed_AS:    1967400 kB\n",
            "VmallocTotal:   34359738367 kB\n",
            "VmallocUsed:           0 kB\n",
            "VmallocChunk:          0 kB\n",
            "AnonHugePages:         0 kB\n",
            "ShmemHugePages:        0 kB\n",
            "ShmemPmdMapped:        0 kB\n",
            "HugePages_Total:       0\n",
            "HugePages_Free:        0\n",
            "HugePages_Rsvd:        0\n",
            "HugePages_Surp:        0\n",
            "Hugepagesize:       2048 kB\n",
            "DirectMap4k:      188404 kB\n",
            "DirectMap2M:     5054464 kB\n",
            "DirectMap1G:    10485760 kB\n"
          ],
          "name": "stdout"
        }
      ]
    },
    {
      "cell_type": "code",
      "metadata": {
        "id": "BJwg5HuB5uy_",
        "colab_type": "code",
        "outputId": "070ba2f2-8896-49f8-d5d5-d3e84f46bd69",
        "colab": {
          "base_uri": "https://localhost:8080/",
          "height": 85
        }
      },
      "source": [
        "!cat /etc/lsb-release"
      ],
      "execution_count": 0,
      "outputs": [
        {
          "output_type": "stream",
          "text": [
            "DISTRIB_ID=Ubuntu\n",
            "DISTRIB_RELEASE=18.04\n",
            "DISTRIB_CODENAME=bionic\n",
            "DISTRIB_DESCRIPTION=\"Ubuntu 18.04.2 LTS\"\n"
          ],
          "name": "stdout"
        }
      ]
    },
    {
      "cell_type": "markdown",
      "metadata": {
        "id": "lLi48-5c6UWK",
        "colab_type": "text"
      },
      "source": [
        "# Install the required packages\n",
        "\n",
        "\n",
        "1.   MxNet\n",
        "2.   List item\n",
        "\n"
      ]
    },
    {
      "cell_type": "markdown",
      "metadata": {
        "id": "v55tQyMIqm-b",
        "colab_type": "text"
      },
      "source": [
        "Get the CUDA version, then install MxNet based on that"
      ]
    },
    {
      "cell_type": "code",
      "metadata": {
        "id": "u_W7ivLeqzNB",
        "colab_type": "code",
        "outputId": "66275c43-02d0-4639-a155-75ae71f6e926",
        "colab": {
          "base_uri": "https://localhost:8080/",
          "height": 170
        }
      },
      "source": [
        "! ls /usr/local/cuda*"
      ],
      "execution_count": 0,
      "outputs": [
        {
          "output_type": "stream",
          "text": [
            "/usr/local/cuda:\n",
            "bin\textras\t libnsight  NsightCompute-1.0  nvvm\tshare\t tools\n",
            "compat\tinclude  libnvvp    nsightee_plugins   README\tsrc\t version.txt\n",
            "doc\tlib64\t LICENSE    nvml\t       samples\ttargets\n",
            "\n",
            "/usr/local/cuda-10.0:\n",
            "bin\textras\t libnsight  NsightCompute-1.0  nvvm\tshare\t tools\n",
            "compat\tinclude  libnvvp    nsightee_plugins   README\tsrc\t version.txt\n",
            "doc\tlib64\t LICENSE    nvml\t       samples\ttargets\n"
          ],
          "name": "stdout"
        }
      ]
    },
    {
      "cell_type": "code",
      "metadata": {
        "id": "oXq2rZFYrJOK",
        "colab_type": "code",
        "outputId": "fde63d45-14c0-4537-b4d0-7c37c22da6aa",
        "colab": {
          "base_uri": "https://localhost:8080/",
          "height": 34
        }
      },
      "source": [
        "! ls -l /usr/local/cuda-10.0/lib64/libcudart.so"
      ],
      "execution_count": 0,
      "outputs": [
        {
          "output_type": "stream",
          "text": [
            "lrwxrwxrwx 1 root root 17 Sep 12  2018 /usr/local/cuda-10.0/lib64/libcudart.so -> libcudart.so.10.0\n"
          ],
          "name": "stdout"
        }
      ]
    },
    {
      "cell_type": "code",
      "metadata": {
        "id": "F33fTF7U6rna",
        "colab_type": "code",
        "outputId": "73ac39b0-7e80-400b-c9fc-4b48ad6d2756",
        "colab": {
          "base_uri": "https://localhost:8080/",
          "height": 122
        }
      },
      "source": [
        "!pip install mxnet-cu100 --no-deps"
      ],
      "execution_count": 0,
      "outputs": [
        {
          "output_type": "stream",
          "text": [
            "Collecting mxnet-cu100\n",
            "\u001b[?25l  Downloading https://files.pythonhosted.org/packages/19/91/b5c2692297aa5b8c383e0da18f9208fc6d5519d981c03266abfbde897c41/mxnet_cu100-1.4.1-py2.py3-none-manylinux1_x86_64.whl (488.3MB)\n",
            "\u001b[K     |████████████████████████████████| 488.3MB 23kB/s \n",
            "\u001b[?25hInstalling collected packages: mxnet-cu100\n",
            "Successfully installed mxnet-cu100-1.4.1\n"
          ],
          "name": "stdout"
        }
      ]
    },
    {
      "cell_type": "code",
      "metadata": {
        "id": "XNp3HB_zIbNc",
        "colab_type": "code",
        "outputId": "49db3355-c1a2-43d7-e145-86f0474f8ef5",
        "colab": {
          "base_uri": "https://localhost:8080/",
          "height": 34
        }
      },
      "source": [
        "# import numpy as np\n",
        "# np.__version__"
      ],
      "execution_count": 0,
      "outputs": [
        {
          "output_type": "execute_result",
          "data": {
            "text/plain": [
              "'1.16.4'"
            ]
          },
          "metadata": {
            "tags": []
          },
          "execution_count": 2
        }
      ]
    },
    {
      "cell_type": "code",
      "metadata": {
        "id": "U-Y2aj5KIaK8",
        "colab_type": "code",
        "outputId": "7397f77e-79ba-443d-a9ab-0982f1d67449",
        "colab": {
          "base_uri": "https://localhost:8080/",
          "height": 34
        }
      },
      "source": [
        "# pip list | grep numpy"
      ],
      "execution_count": 0,
      "outputs": [
        {
          "output_type": "stream",
          "text": [
            "numpy                              1.16.4               \n"
          ],
          "name": "stdout"
        }
      ]
    },
    {
      "cell_type": "code",
      "metadata": {
        "id": "zMGgUwq8PPRm",
        "colab_type": "code",
        "outputId": "6e1af97c-ebd4-469c-9b46-c306c4fcdb45",
        "colab": {
          "base_uri": "https://localhost:8080/",
          "height": 221
        }
      },
      "source": [
        "# pip uninstall fastai spacy albumentations numpy imgaug blis -y"
      ],
      "execution_count": 0,
      "outputs": [
        {
          "output_type": "stream",
          "text": [
            "Uninstalling albumentations-0.1.12:\n",
            "  Successfully uninstalled albumentations-0.1.12\n",
            "Uninstalling imgaug-0.2.9:\n",
            "  Successfully uninstalled imgaug-0.2.9\n",
            "Uninstalling blis-0.2.4:\n",
            "  Successfully uninstalled blis-0.2.4\n",
            "Uninstalling fastai-0.7.0:\n",
            "  Successfully uninstalled fastai-0.7.0\n",
            "Uninstalling spacy-2.1.4:\n",
            "  Successfully uninstalled spacy-2.1.4\n",
            "Uninstalling numpy-1.16.4:\n",
            "  Successfully uninstalled numpy-1.16.4\n"
          ],
          "name": "stdout"
        }
      ]
    },
    {
      "cell_type": "code",
      "metadata": {
        "id": "wjoxWnBmOi4r",
        "colab_type": "code",
        "colab": {}
      },
      "source": [
        "# pip install blis==0.2.1"
      ],
      "execution_count": 0,
      "outputs": []
    },
    {
      "cell_type": "code",
      "metadata": {
        "id": "EzdeB2y2V9bq",
        "colab_type": "code",
        "colab": {}
      },
      "source": [
        "import mxnet"
      ],
      "execution_count": 0,
      "outputs": []
    },
    {
      "cell_type": "code",
      "metadata": {
        "id": "TU_vlccxn5m6",
        "colab_type": "code",
        "outputId": "023c68af-5fc9-4948-ccd5-718128b1e9c9",
        "colab": {
          "base_uri": "https://localhost:8080/",
          "height": 34
        }
      },
      "source": [
        "mxnet.__version__"
      ],
      "execution_count": 0,
      "outputs": [
        {
          "output_type": "execute_result",
          "data": {
            "text/plain": [
              "'1.4.1'"
            ]
          },
          "metadata": {
            "tags": []
          },
          "execution_count": 9
        }
      ]
    },
    {
      "cell_type": "markdown",
      "metadata": {
        "id": "6YuHGihQ62Kx",
        "colab_type": "text"
      },
      "source": [
        "# Mount GG driver\n",
        " your needs to go to the link to retrieve the authorization code. Then you are good to go!"
      ]
    },
    {
      "cell_type": "code",
      "metadata": {
        "id": "jqkTGp6gpGLw",
        "colab_type": "code",
        "outputId": "46878b88-30c9-41b4-ec3a-adff0955fa9a",
        "colab": {
          "base_uri": "https://localhost:8080/",
          "height": 122
        }
      },
      "source": [
        "from google.colab import drive\n",
        "drive.mount('/content/gdrive')"
      ],
      "execution_count": 0,
      "outputs": [
        {
          "output_type": "stream",
          "text": [
            "Go to this URL in a browser: https://accounts.google.com/o/oauth2/auth?client_id=947318989803-6bn6qk8qdgf4n4g3pfee6491hc0brc4i.apps.googleusercontent.com&redirect_uri=urn%3Aietf%3Awg%3Aoauth%3A2.0%3Aoob&scope=email%20https%3A%2F%2Fwww.googleapis.com%2Fauth%2Fdocs.test%20https%3A%2F%2Fwww.googleapis.com%2Fauth%2Fdrive%20https%3A%2F%2Fwww.googleapis.com%2Fauth%2Fdrive.photos.readonly%20https%3A%2F%2Fwww.googleapis.com%2Fauth%2Fpeopleapi.readonly&response_type=code\n",
            "\n",
            "Enter your authorization code:\n",
            "··········\n",
            "Mounted at /content/gdrive\n"
          ],
          "name": "stdout"
        }
      ]
    },
    {
      "cell_type": "code",
      "metadata": {
        "id": "OmQfaY2ue5rm",
        "colab_type": "code",
        "outputId": "d62566a0-3795-4593-a3e0-7dca0ca07714",
        "colab": {
          "base_uri": "https://localhost:8080/",
          "height": 34
        }
      },
      "source": [
        "!ls /content/gdrive"
      ],
      "execution_count": 0,
      "outputs": [
        {
          "output_type": "stream",
          "text": [
            "'My Drive'\n"
          ],
          "name": "stdout"
        }
      ]
    },
    {
      "cell_type": "code",
      "metadata": {
        "id": "iz5Ox79k8IWV",
        "colab_type": "code",
        "outputId": "481d9212-42dc-4ce6-ae97-948dcfcb4ce5",
        "colab": {
          "base_uri": "https://localhost:8080/",
          "height": 34
        }
      },
      "source": [
        "iface_root = '/content/gdrive/My\\ Drive/DNN/InsightFace'\n",
        "!ls $iface_root"
      ],
      "execution_count": 0,
      "outputs": [
        {
          "output_type": "stream",
          "text": [
            "iface.ipynb  insightface_for_zjl.zip\n"
          ],
          "name": "stdout"
        }
      ]
    },
    {
      "cell_type": "code",
      "metadata": {
        "id": "qgQ54i3Qi7bK",
        "colab_type": "code",
        "outputId": "8c9eb4f2-863a-4e0d-d959-607fd6bd5080",
        "colab": {
          "base_uri": "https://localhost:8080/",
          "height": 102
        }
      },
      "source": [
        "iface_data = '/content/gdrive/My\\ Drive/DNN/iFace_data'\n",
        "!ls $iface_data"
      ],
      "execution_count": 0,
      "outputs": [
        {
          "output_type": "stream",
          "text": [
            "gen_pair_rev.py   image_valid.tgz\t    property\t\t valid.bin\n",
            "im2rec_my_lst.sh  lfw_funneled_aligned.zip  train_list.idx\t valid.txt\n",
            "im2rec_my.sh\t  lfw-funneled.tgz\t    train_list.lst\n",
            "image_test.tgz\t  models\t\t    train_list.rec\n",
            "image_train.tgz   mtcnn-model\t\t    train_softmax_my.py\n"
          ],
          "name": "stdout"
        }
      ]
    },
    {
      "cell_type": "markdown",
      "metadata": {
        "id": "RZKPodoS32LW",
        "colab_type": "text"
      },
      "source": [
        "# download LFW data then copy to GG driver"
      ]
    },
    {
      "cell_type": "code",
      "metadata": {
        "id": "dpXt1YhD8qse",
        "colab_type": "code",
        "colab": {}
      },
      "source": [
        "#!wget http://vis-www.cs.umass.edu/lfw/lfw-funneled.tgz"
      ],
      "execution_count": 0,
      "outputs": []
    },
    {
      "cell_type": "code",
      "metadata": {
        "id": "1kIRz0Xp9bFT",
        "colab_type": "code",
        "colab": {}
      },
      "source": [
        "#!cp lfw-funneled.tgz $iface_root"
      ],
      "execution_count": 0,
      "outputs": []
    },
    {
      "cell_type": "code",
      "metadata": {
        "id": "7WIvwcnwh5h3",
        "colab_type": "code",
        "colab": {}
      },
      "source": [
        "#! tar zxvf lfw-funneled.tgz"
      ],
      "execution_count": 0,
      "outputs": []
    },
    {
      "cell_type": "markdown",
      "metadata": {
        "id": "w4Xk7qFUx9UU",
        "colab_type": "text"
      },
      "source": [
        "# Copy files from GG driver to local"
      ]
    },
    {
      "cell_type": "code",
      "metadata": {
        "id": "u1m6PKZ78m9D",
        "colab_type": "code",
        "colab": {}
      },
      "source": [
        "!mkdir -p /content/iface\n",
        "!cp -r $iface_root/* /content/iface/"
      ],
      "execution_count": 0,
      "outputs": []
    },
    {
      "cell_type": "code",
      "metadata": {
        "id": "B8ab66ARiY6f",
        "colab_type": "code",
        "colab": {}
      },
      "source": [
        "!cp -r $iface_data/* /content/iface/"
      ],
      "execution_count": 0,
      "outputs": []
    },
    {
      "cell_type": "code",
      "metadata": {
        "id": "9U2vZbS4yQ6k",
        "colab_type": "code",
        "outputId": "cee9ecf3-7c91-43ba-b52a-08bd5886d099",
        "colab": {
          "base_uri": "https://localhost:8080/",
          "height": 68
        }
      },
      "source": [
        "!du -sh *"
      ],
      "execution_count": 0,
      "outputs": [
        {
          "output_type": "stream",
          "text": [
            "1.2G\tgdrive\n",
            "1.2G\tiface\n",
            "55M\tsample_data\n"
          ],
          "name": "stdout"
        }
      ]
    },
    {
      "cell_type": "code",
      "metadata": {
        "id": "Dg3t3tJbcLr5",
        "colab_type": "code",
        "outputId": "a85a9ca8-d541-4d91-cb62-ade69e2715ed",
        "colab": {
          "base_uri": "https://localhost:8080/",
          "height": 34
        }
      },
      "source": [
        "cd /content/iface"
      ],
      "execution_count": 0,
      "outputs": [
        {
          "output_type": "stream",
          "text": [
            "/content/iface\n"
          ],
          "name": "stdout"
        }
      ]
    },
    {
      "cell_type": "code",
      "metadata": {
        "id": "rTnto7bKiy7a",
        "colab_type": "code",
        "colab": {}
      },
      "source": [
        "!unzip insightface_for_zjl.zip"
      ],
      "execution_count": 0,
      "outputs": []
    },
    {
      "cell_type": "code",
      "metadata": {
        "id": "sqmSaF4ecvQf",
        "colab_type": "code",
        "colab": {}
      },
      "source": [
        "!tar zxvf lfw-funneled.tgz\n",
        "!mv /content/lfw_funneled/  /content/insightface_for_face_recognition-master/dataset/"
      ],
      "execution_count": 0,
      "outputs": []
    },
    {
      "cell_type": "code",
      "metadata": {
        "id": "yWMDoowZxFUF",
        "colab_type": "code",
        "outputId": "f69b0194-42be-453a-b1d1-8cd2c642fe9e",
        "colab": {
          "base_uri": "https://localhost:8080/",
          "height": 34
        }
      },
      "source": [
        "!ls /content/insightface_for_face_recognition-master/dataset/"
      ],
      "execution_count": 0,
      "outputs": [
        {
          "output_type": "stream",
          "text": [
            "lfw_funneled  train  train_valid.py  valid  程序说明.txt\n"
          ],
          "name": "stdout"
        }
      ]
    },
    {
      "cell_type": "markdown",
      "metadata": {
        "id": "19ws835ZllKq",
        "colab_type": "text"
      },
      "source": [
        "**NOTE：there's problem when do the aliagnment for Claudia_Pechstein, we need remove the dir.**\n",
        "\n",
        "\n",
        "```\n",
        "../dataset/lfw_funneled/Claudia_Pechstein/Claudia_Pechstein_0001.jpg\n",
        "ok2\n",
        "../dataset/lfw_funneled/Claudia_Pechstein/Claudia_Pechstein_0003.jpg\n",
        "ok2\n",
        "../dataset/lfw_funneled/Claudia_Pechstein/Claudia_Pechstein_0004.jpg\n",
        "ok2\n",
        "../dataset/lfw_funneled/Claudia_Pechstein/Claudia_Pechstein_0005.jpg\n",
        "ok2\n",
        "Traceback (most recent call last):\n",
        "  File \"get_face.py\", line 59, in <module>\n",
        "    new_image = np.transpose(out, (1, 2, 0))[:, :, ::-1]\n",
        "  File \"/usr/local/lib/python2.7/dist-packages/numpy/core/fromnumeric.py\", line 639, in transpose\n",
        "    return _wrapfunc(a, 'transpose', axes)\n",
        "  File \"/usr/local/lib/python2.7/dist-packages/numpy/core/fromnumeric.py\", line 66, in _wrapfunc\n",
        "    return _wrapit(obj, method, *args, **kwds)\n",
        "  File \"/usr/local/lib/python2.7/dist-packages/numpy/core/fromnumeric.py\", line 46, in _wrapit\n",
        "    result = getattr(asarray(obj), method)(*args, **kwds)\n",
        "ValueError: axes don't match array\n",
        "```\n",
        "\n"
      ]
    },
    {
      "cell_type": "code",
      "metadata": {
        "id": "KenD7AZzmS4T",
        "colab_type": "code",
        "colab": {}
      },
      "source": [
        "!rm -rf /content/insightface_for_face_recognition-master/dataset/lfw_funneled/Claudia_Pechstein/"
      ],
      "execution_count": 0,
      "outputs": []
    },
    {
      "cell_type": "markdown",
      "metadata": {
        "id": "L5zxgorSzM0L",
        "colab_type": "text"
      },
      "source": [
        "# align the pictures in dataset"
      ]
    },
    {
      "cell_type": "code",
      "metadata": {
        "id": "izxtHUa7c4lO",
        "colab_type": "code",
        "outputId": "8dc2d6e7-927e-44d0-9b00-63bc2780cee1",
        "colab": {
          "base_uri": "https://localhost:8080/",
          "height": 34
        }
      },
      "source": [
        "cd /content/iface/"
      ],
      "execution_count": 0,
      "outputs": [
        {
          "output_type": "stream",
          "text": [
            "/content/iface\n"
          ],
          "name": "stdout"
        }
      ]
    },
    {
      "cell_type": "code",
      "metadata": {
        "id": "zjRM11VHc3Y7",
        "colab_type": "code",
        "outputId": "f5b6d043-3e3d-4223-beea-62161a9b139b",
        "colab": {
          "base_uri": "https://localhost:8080/",
          "height": 85
        }
      },
      "source": [
        "ls"
      ],
      "execution_count": 0,
      "outputs": [
        {
          "output_type": "stream",
          "text": [
            "iface.ipynb                               lfw-funneled.tgz\n",
            "\u001b[0m\u001b[01;34minsightface_for_face_recognition-master\u001b[0m/  \u001b[01;34mmodels\u001b[0m/\n",
            "insightface_for_zjl.zip                   \u001b[01;34mmtcnn-model\u001b[0m/\n",
            "lfw_funneled_aligned.zip\n"
          ],
          "name": "stdout"
        }
      ]
    },
    {
      "cell_type": "code",
      "metadata": {
        "id": "3BFCeGSPdB6t",
        "colab_type": "code",
        "colab": {}
      },
      "source": [
        "!unzip lfw_funneled_aligned.zip"
      ],
      "execution_count": 0,
      "outputs": []
    },
    {
      "cell_type": "code",
      "metadata": {
        "id": "8jeqJnbXebMQ",
        "colab_type": "code",
        "outputId": "2b7134c1-227c-428f-e17d-64100ae20d5e",
        "colab": {
          "base_uri": "https://localhost:8080/",
          "height": 85
        }
      },
      "source": [
        "ls"
      ],
      "execution_count": 0,
      "outputs": [
        {
          "output_type": "stream",
          "text": [
            "iface.ipynb                               lfw_funneled_aligned.zip\n",
            "\u001b[0m\u001b[01;34minsightface_for_face_recognition-master\u001b[0m/  lfw-funneled.tgz\n",
            "insightface_for_zjl.zip                   \u001b[01;34mmodels\u001b[0m/\n",
            "\u001b[01;34mlfw_funneled_aligned\u001b[0m/                     \u001b[01;34mmtcnn-model\u001b[0m/\n"
          ],
          "name": "stdout"
        }
      ]
    },
    {
      "cell_type": "code",
      "metadata": {
        "id": "W7iLgHe_eiO5",
        "colab_type": "code",
        "colab": {}
      },
      "source": [
        "mv lfw_funneled_aligned/ insightface_for_face_recognition-master/dataset/"
      ],
      "execution_count": 0,
      "outputs": []
    },
    {
      "cell_type": "code",
      "metadata": {
        "id": "h49N-Vf_xzwT",
        "colab_type": "code",
        "colab": {}
      },
      "source": [
        "cd /content/insightface_for_face_recognition-master/"
      ],
      "execution_count": 0,
      "outputs": []
    },
    {
      "cell_type": "code",
      "metadata": {
        "id": "pbHD7dP3NWpd",
        "colab_type": "code",
        "colab": {}
      },
      "source": [
        "!mkdir /content/insightface_for_face_recognition-master/dataset/lfw_funneled_aligned"
      ],
      "execution_count": 0,
      "outputs": []
    },
    {
      "cell_type": "code",
      "metadata": {
        "id": "E_EcznvRyD3S",
        "colab_type": "code",
        "colab": {}
      },
      "source": [
        "!python get_face.py"
      ],
      "execution_count": 0,
      "outputs": []
    },
    {
      "cell_type": "code",
      "metadata": {
        "id": "iOgQLpar5WgP",
        "colab_type": "code",
        "outputId": "28d0dbaf-ba74-4082-a027-efd74e0743c0",
        "colab": {
          "base_uri": "https://localhost:8080/",
          "height": 51
        }
      },
      "source": [
        "ls ../dataset/"
      ],
      "execution_count": 0,
      "outputs": [
        {
          "output_type": "stream",
          "text": [
            "\u001b[0m\u001b[01;34mlfw_funneled\u001b[0m/          \u001b[01;34mtrain\u001b[0m/          \u001b[01;34mvalid\u001b[0m/\n",
            "\u001b[01;34mlfw_funneled_aligned\u001b[0m/  train_valid.py  程序说明.txt\n"
          ],
          "name": "stdout"
        }
      ]
    },
    {
      "cell_type": "code",
      "metadata": {
        "id": "Rk4K2yJe7aDT",
        "colab_type": "code",
        "colab": {}
      },
      "source": [
        "!cp -r ../dataset/lfw_funneled_aligned $iface_root/"
      ],
      "execution_count": 0,
      "outputs": []
    },
    {
      "cell_type": "markdown",
      "metadata": {
        "id": "d-_YJD8wBm3Q",
        "colab_type": "text"
      },
      "source": [
        "# split the dataset to train, validate, and test"
      ]
    },
    {
      "cell_type": "code",
      "metadata": {
        "id": "TNi09S1uCiL0",
        "colab_type": "code",
        "outputId": "004ae4e8-1ac2-4759-d9b3-6d757461ff3a",
        "colab": {
          "base_uri": "https://localhost:8080/",
          "height": 34
        }
      },
      "source": [
        "cd /content/iface/insightface_for_face_recognition-master/dataset/"
      ],
      "execution_count": 0,
      "outputs": [
        {
          "output_type": "stream",
          "text": [
            "/content/iface/insightface_for_face_recognition-master/dataset\n"
          ],
          "name": "stdout"
        }
      ]
    },
    {
      "cell_type": "code",
      "metadata": {
        "id": "bzY3ik2LCuyg",
        "colab_type": "code",
        "outputId": "968f91f5-6c67-4add-d27a-7e8aa8261110",
        "colab": {
          "base_uri": "https://localhost:8080/",
          "height": 34
        }
      },
      "source": [
        "ls"
      ],
      "execution_count": 0,
      "outputs": [
        {
          "output_type": "stream",
          "text": [
            "\u001b[0m\u001b[01;34mlfw_funneled_aligned\u001b[0m/  \u001b[01;34mtrain\u001b[0m/  train_valid.py  \u001b[01;34mvalid\u001b[0m/  程序说明.txt\n"
          ],
          "name": "stdout"
        }
      ]
    },
    {
      "cell_type": "code",
      "metadata": {
        "id": "GdN0nRunGqCS",
        "colab_type": "code",
        "colab": {}
      },
      "source": [
        "!python train_valid.py"
      ],
      "execution_count": 0,
      "outputs": []
    },
    {
      "cell_type": "code",
      "metadata": {
        "id": "JQpQb36zG4yg",
        "colab_type": "code",
        "outputId": "bf739acf-182a-43ac-9f4e-5815c8060bcc",
        "colab": {
          "base_uri": "https://localhost:8080/",
          "height": 51
        }
      },
      "source": [
        "ls"
      ],
      "execution_count": 0,
      "outputs": [
        {
          "output_type": "stream",
          "text": [
            "\u001b[0m\u001b[01;34mimage_test\u001b[0m/   \u001b[01;34mimage_valid\u001b[0m/           \u001b[01;34mtrain\u001b[0m/          \u001b[01;34mvalid\u001b[0m/\n",
            "\u001b[01;34mimage_train\u001b[0m/  \u001b[01;34mlfw_funneled_aligned\u001b[0m/  train_valid.py  程序说明.txt\n"
          ],
          "name": "stdout"
        }
      ]
    },
    {
      "cell_type": "code",
      "metadata": {
        "id": "Dm96uzYfG-jq",
        "colab_type": "code",
        "outputId": "c2d125e5-ea1e-448b-ec7a-fb2ada678cd9",
        "colab": {
          "base_uri": "https://localhost:8080/",
          "height": 357
        }
      },
      "source": [
        "!du -sh *"
      ],
      "execution_count": 0,
      "outputs": [
        {
          "output_type": "stream",
          "text": [
            "4.0K\tgen_pair_rev.py\n",
            "104K\tiface.ipynb\n",
            "4.0K\tim2rec_my_lst.sh\n",
            "4.0K\tim2rec_my.sh\n",
            "3.4M\timage_test.tgz\n",
            "52M\timage_train.tgz\n",
            "2.5M\timage_valid.tgz\n",
            "3.0M\tinsightface_for_face_recognition-master\n",
            "436K\tinsightface_for_zjl.zip\n",
            "69M\tlfw_funneled_aligned.zip\n",
            "233M\tlfw-funneled.tgz\n",
            "679M\tmodels\n",
            "12M\tmtcnn-model\n",
            "4.0K\tproperty\n",
            "164K\ttrain_list.idx\n",
            "476K\ttrain_list.lst\n",
            "59M\ttrain_list.rec\n",
            "24K\ttrain_softmax_my.py\n",
            "28M\tvalid.bin\n",
            "252K\tvalid.txt\n"
          ],
          "name": "stdout"
        }
      ]
    },
    {
      "cell_type": "code",
      "metadata": {
        "id": "ypvPaxDiIGBW",
        "colab_type": "code",
        "colab": {}
      },
      "source": [
        "!tar -zcvf image_test.tgz image_test/"
      ],
      "execution_count": 0,
      "outputs": []
    },
    {
      "cell_type": "code",
      "metadata": {
        "id": "uv5cqA4PiGDU",
        "colab_type": "code",
        "colab": {}
      },
      "source": [
        "!tar -zcvf image_train.tgz image_train/"
      ],
      "execution_count": 0,
      "outputs": []
    },
    {
      "cell_type": "code",
      "metadata": {
        "id": "47W2UUxHiaVy",
        "colab_type": "code",
        "colab": {}
      },
      "source": [
        "!tar -zcvf image_valid.tgz image_valid/"
      ],
      "execution_count": 0,
      "outputs": []
    },
    {
      "cell_type": "code",
      "metadata": {
        "id": "_I23TJMWioDZ",
        "colab_type": "code",
        "outputId": "60cfc46a-2dcc-48c7-e5fe-deb3c96860b1",
        "colab": {
          "base_uri": "https://localhost:8080/",
          "height": 68
        }
      },
      "source": [
        "ls"
      ],
      "execution_count": 0,
      "outputs": [
        {
          "output_type": "stream",
          "text": [
            "\u001b[0m\u001b[01;34mimage_test\u001b[0m/     image_train.tgz  \u001b[01;34mlfw_funneled_aligned\u001b[0m/  \u001b[01;34mvalid\u001b[0m/\n",
            "image_test.tgz  \u001b[01;34mimage_valid\u001b[0m/     \u001b[01;34mtrain\u001b[0m/                 程序说明.txt\n",
            "\u001b[01;34mimage_train\u001b[0m/    image_valid.tgz  train_valid.py\n"
          ],
          "name": "stdout"
        }
      ]
    },
    {
      "cell_type": "code",
      "metadata": {
        "id": "YfkuW3djitKD",
        "colab_type": "code",
        "colab": {}
      },
      "source": [
        "!cp *tgz $iface_data/"
      ],
      "execution_count": 0,
      "outputs": []
    },
    {
      "cell_type": "code",
      "metadata": {
        "id": "5nH1WtUHMWaG",
        "colab_type": "code",
        "outputId": "676fd90a-359f-476a-8734-5a2d9eb4d5f4",
        "colab": {
          "base_uri": "https://localhost:8080/",
          "height": 51
        }
      },
      "source": [
        "!ls $iface_data"
      ],
      "execution_count": 0,
      "outputs": [
        {
          "output_type": "stream",
          "text": [
            "image_test.tgz\t image_valid.tgz\t   lfw-funneled.tgz  mtcnn-model\n",
            "image_train.tgz  lfw_funneled_aligned.zip  models\n"
          ],
          "name": "stdout"
        }
      ]
    },
    {
      "cell_type": "markdown",
      "metadata": {
        "id": "GWLh4OaHlEmC",
        "colab_type": "text"
      },
      "source": [
        "# Generate list file and train.rec"
      ]
    },
    {
      "cell_type": "code",
      "metadata": {
        "id": "ikoTlSkolJMw",
        "colab_type": "code",
        "colab": {}
      },
      "source": [
        "!cp $iface_data/*.sh /content/iface/insightface_for_face_recognition-master/make_rec/"
      ],
      "execution_count": 0,
      "outputs": []
    },
    {
      "cell_type": "code",
      "metadata": {
        "id": "q80E57jzsnR7",
        "colab_type": "code",
        "outputId": "6097208f-c6ce-445c-ca46-05017f495d40",
        "colab": {
          "base_uri": "https://localhost:8080/",
          "height": 34
        }
      },
      "source": [
        "cd /content/iface/insightface_for_face_recognition-master/make_rec/"
      ],
      "execution_count": 0,
      "outputs": [
        {
          "output_type": "stream",
          "text": [
            "/content/iface/insightface_for_face_recognition-master/make_rec\n"
          ],
          "name": "stdout"
        }
      ]
    },
    {
      "cell_type": "code",
      "metadata": {
        "id": "GLVMQkspsxqw",
        "colab_type": "code",
        "outputId": "bde5fb5b-a941-4a17-8cf1-acb560079cd5",
        "colab": {
          "base_uri": "https://localhost:8080/",
          "height": 68
        }
      },
      "source": [
        "!more im2rec_my_lst.sh"
      ],
      "execution_count": 0,
      "outputs": [
        {
          "output_type": "stream",
          "text": [
            "#前者表示要生成的.lst文件名,后者表示图像所在文件夹\n",
            "!python im2rec_my.py --list --recursive  ../dataset/train/train_list  ../dataset\n",
            "/image_train/\n"
          ],
          "name": "stdout"
        }
      ]
    },
    {
      "cell_type": "code",
      "metadata": {
        "id": "crVwntCPs-Mt",
        "colab_type": "code",
        "colab": {}
      },
      "source": [
        "!python im2rec_my.py --list --recursive  ../dataset/train/train_list  ../dataset/image_train/"
      ],
      "execution_count": 0,
      "outputs": []
    },
    {
      "cell_type": "code",
      "metadata": {
        "id": "hywsy_3MyfQz",
        "colab_type": "code",
        "outputId": "ef5a9d56-8e5b-45af-ed84-544389bfa09f",
        "colab": {
          "base_uri": "https://localhost:8080/",
          "height": 51
        }
      },
      "source": [
        "!more im2rec_my.sh"
      ],
      "execution_count": 0,
      "outputs": [
        {
          "output_type": "stream",
          "text": [
            "#前者表示lst,后者表示图像所在文件夹\n",
            "!python im2rec_my.py  ../dataset/train/train_list  ../dataset/image_train/\n"
          ],
          "name": "stdout"
        }
      ]
    },
    {
      "cell_type": "code",
      "metadata": {
        "id": "liXNPlppyuS2",
        "colab_type": "code",
        "outputId": "5e5a2cff-2a10-4baf-ce3f-46c3c36e36f6",
        "colab": {
          "base_uri": "https://localhost:8080/",
          "height": 292
        }
      },
      "source": [
        "!python im2rec_my.py  ../dataset/train/train_list  ../dataset/image_train/"
      ],
      "execution_count": 0,
      "outputs": [
        {
          "output_type": "stream",
          "text": [
            "/content/iface/insightface_for_face_recognition-master/dataset/train/train_list\n",
            "Creating .rec file from /content/iface/insightface_for_face_recognition-master/dataset/train/train_list.lst in /content/iface/insightface_for_face_recognition-master/dataset/train\n",
            "multiprocessing not available, fall back to single threaded encoding\n",
            "time: 0.00593495368958  count: 0\n",
            "time: 0.495549917221  count: 1000\n",
            "time: 0.491089105606  count: 2000\n",
            "time: 0.504509925842  count: 3000\n",
            "time: 0.514358997345  count: 4000\n",
            "time: 0.513595104218  count: 5000\n",
            "time: 0.508189916611  count: 6000\n",
            "time: 0.513194084167  count: 7000\n",
            "time: 0.510281801224  count: 8000\n",
            "time: 0.509299993515  count: 9000\n",
            "time: 0.508527040482  count: 10000\n",
            "time: 0.515807151794  count: 11000\n"
          ],
          "name": "stdout"
        }
      ]
    },
    {
      "cell_type": "code",
      "metadata": {
        "id": "d0f2zkPWz6SF",
        "colab_type": "code",
        "outputId": "28f0be96-a613-47c3-f8d9-c85db167c580",
        "colab": {
          "base_uri": "https://localhost:8080/",
          "height": 102
        }
      },
      "source": [
        "ll ../dataset/train"
      ],
      "execution_count": 0,
      "outputs": [
        {
          "output_type": "stream",
          "text": [
            "total 60724\n",
            "-rw-rw-r-- 1 root       13 Jun 22 08:10 property\n",
            "-rw-r--r-- 1 root   165373 Jun 28 15:59 train_list.idx\n",
            "-rw-r--r-- 1 root   484001 Jun 28 15:52 train_list.lst\n",
            "-rw-r--r-- 1 root 61520844 Jun 28 15:59 train_list.rec\n"
          ],
          "name": "stdout"
        }
      ]
    },
    {
      "cell_type": "code",
      "metadata": {
        "id": "Gy_o18_q1hmK",
        "colab_type": "code",
        "colab": {}
      },
      "source": [
        "!cp ../dataset/train/train_list.* $iface_data"
      ],
      "execution_count": 0,
      "outputs": []
    },
    {
      "cell_type": "markdown",
      "metadata": {
        "id": "WiYtL5u02L4z",
        "colab_type": "text"
      },
      "source": [
        "# generate valid bin"
      ]
    },
    {
      "cell_type": "code",
      "metadata": {
        "id": "8vWS4vcN_lQv",
        "colab_type": "code",
        "colab": {}
      },
      "source": [
        "!mkdir /content/iface"
      ],
      "execution_count": 0,
      "outputs": []
    },
    {
      "cell_type": "code",
      "metadata": {
        "id": "eRIZRAMx_Kja",
        "colab_type": "code",
        "colab": {}
      },
      "source": [
        "!cp -r $iface_data/* /content/iface/"
      ],
      "execution_count": 0,
      "outputs": []
    },
    {
      "cell_type": "code",
      "metadata": {
        "id": "MLL4PSCA2kYG",
        "colab_type": "code",
        "outputId": "c40e4849-2ad7-4392-fbea-093248a0f43e",
        "colab": {
          "base_uri": "https://localhost:8080/",
          "height": 34
        }
      },
      "source": [
        "cd /content/iface/insightface_for_face_recognition-master/make_rec/"
      ],
      "execution_count": 0,
      "outputs": [
        {
          "output_type": "stream",
          "text": [
            "/content/iface/insightface_for_face_recognition-master/make_rec\n"
          ],
          "name": "stdout"
        }
      ]
    },
    {
      "cell_type": "code",
      "metadata": {
        "id": "SABuK-mj5cdq",
        "colab_type": "code",
        "colab": {}
      },
      "source": [
        "!cp $iface_data/gen_pair_rev.py /content/iface/insightface_for_face_recognition-master/make_rec"
      ],
      "execution_count": 0,
      "outputs": []
    },
    {
      "cell_type": "code",
      "metadata": {
        "id": "zgtL4oJMQ_9L",
        "colab_type": "code",
        "colab": {}
      },
      "source": [
        "!mv ../dataset/valid_images ../dataset/image_valid"
      ],
      "execution_count": 0,
      "outputs": []
    },
    {
      "cell_type": "code",
      "metadata": {
        "id": "g9yFthRYPwGz",
        "colab_type": "code",
        "colab": {}
      },
      "source": [
        "!ls ../dataset/image_valid/"
      ],
      "execution_count": 0,
      "outputs": []
    },
    {
      "cell_type": "code",
      "metadata": {
        "id": "xxmWocDM4GJY",
        "colab_type": "code",
        "outputId": "2857951a-1d0d-4868-f52b-ebfdc0a58d21",
        "colab": {
          "base_uri": "https://localhost:8080/",
          "height": 51
        }
      },
      "source": [
        "!python gen_pair_rev.py"
      ],
      "execution_count": 0,
      "outputs": [
        {
          "output_type": "stream",
          "text": [
            "561\n",
            "561\n"
          ],
          "name": "stdout"
        }
      ]
    },
    {
      "cell_type": "code",
      "metadata": {
        "id": "Pi9-i8GDSkbo",
        "colab_type": "code",
        "colab": {}
      },
      "source": [
        "more ../dataset/valid/valid.txt"
      ],
      "execution_count": 0,
      "outputs": []
    },
    {
      "cell_type": "code",
      "metadata": {
        "id": "MAZhRASt7SaW",
        "colab_type": "code",
        "colab": {}
      },
      "source": [
        "rm ../dataset/valid/valid.txt"
      ],
      "execution_count": 0,
      "outputs": []
    },
    {
      "cell_type": "code",
      "metadata": {
        "id": "V38gY958lOrZ",
        "colab_type": "code",
        "colab": {}
      },
      "source": [
        "!cp ../dataset/valid/valid.txt $iface_data"
      ],
      "execution_count": 0,
      "outputs": []
    },
    {
      "cell_type": "code",
      "metadata": {
        "id": "fGDP-Ai07doq",
        "colab_type": "code",
        "colab": {}
      },
      "source": [
        "!cp ../dataset/valid/valid.txt $iface_data"
      ],
      "execution_count": 0,
      "outputs": []
    },
    {
      "cell_type": "code",
      "metadata": {
        "id": "8BAS4UK_AqlA",
        "colab_type": "code",
        "outputId": "214fd3be-0bf2-4d5d-973a-ea2fc824ce41",
        "colab": {
          "base_uri": "https://localhost:8080/",
          "height": 34
        }
      },
      "source": [
        "cd /content/iface/"
      ],
      "execution_count": 0,
      "outputs": [
        {
          "output_type": "stream",
          "text": [
            "/content/iface\n"
          ],
          "name": "stdout"
        }
      ]
    },
    {
      "cell_type": "code",
      "metadata": {
        "id": "NZ4_R1hCBN4-",
        "colab_type": "code",
        "colab": {}
      },
      "source": [
        "!cp $iface_root/* /content/iface/"
      ],
      "execution_count": 0,
      "outputs": []
    },
    {
      "cell_type": "code",
      "metadata": {
        "id": "UE9i2fijA5hJ",
        "colab_type": "code",
        "colab": {}
      },
      "source": [
        "!unzip insightface_for_zjl.zip"
      ],
      "execution_count": 0,
      "outputs": []
    },
    {
      "cell_type": "code",
      "metadata": {
        "id": "rav9cooHCGXW",
        "colab_type": "code",
        "colab": {}
      },
      "source": [
        "!tar zxvf image_valid.tgz"
      ],
      "execution_count": 0,
      "outputs": []
    },
    {
      "cell_type": "code",
      "metadata": {
        "id": "l4JTsy1xCWpd",
        "colab_type": "code",
        "colab": {}
      },
      "source": [
        "mv image_valid/ insightface_for_face_recognition-master/dataset/"
      ],
      "execution_count": 0,
      "outputs": []
    },
    {
      "cell_type": "code",
      "metadata": {
        "id": "jNv1pzbgClzy",
        "colab_type": "code",
        "colab": {}
      },
      "source": [
        "ls insightface_for_face_recognition-master/dataset/image_valid/"
      ],
      "execution_count": 0,
      "outputs": []
    },
    {
      "cell_type": "code",
      "metadata": {
        "id": "qtGn3iyXCxR8",
        "colab_type": "code",
        "colab": {}
      },
      "source": [
        "cp valid.txt insightface_for_face_recognition-master/dataset/valid/"
      ],
      "execution_count": 0,
      "outputs": []
    },
    {
      "cell_type": "code",
      "metadata": {
        "id": "q18wVoQjDGHG",
        "colab_type": "code",
        "outputId": "3733a211-cf9a-4896-8a4b-4aa94da0928f",
        "colab": {
          "base_uri": "https://localhost:8080/",
          "height": 34
        }
      },
      "source": [
        "ls insightface_for_face_recognition-master/dataset/valid/"
      ],
      "execution_count": 0,
      "outputs": [
        {
          "output_type": "stream",
          "text": [
            "valid.txt\n"
          ],
          "name": "stdout"
        }
      ]
    },
    {
      "cell_type": "code",
      "metadata": {
        "id": "lBTZBqsMDMj_",
        "colab_type": "code",
        "outputId": "77aa4e78-0070-45db-9b9c-08db34d20326",
        "colab": {
          "base_uri": "https://localhost:8080/",
          "height": 34
        }
      },
      "source": [
        "cd insightface_for_face_recognition-master/make_rec/"
      ],
      "execution_count": 0,
      "outputs": [
        {
          "output_type": "stream",
          "text": [
            "/content/iface/insightface_for_face_recognition-master/make_rec\n"
          ],
          "name": "stdout"
        }
      ]
    },
    {
      "cell_type": "code",
      "metadata": {
        "id": "K_Nfv_peGBJb",
        "colab_type": "code",
        "colab": {}
      },
      "source": [
        "mv ../dataset/image_valid/ ../dataset/valid_images"
      ],
      "execution_count": 0,
      "outputs": []
    },
    {
      "cell_type": "code",
      "metadata": {
        "id": "LNPTLfcvGTpw",
        "colab_type": "code",
        "colab": {}
      },
      "source": [
        "!ls ../dataset/valid_images/"
      ],
      "execution_count": 0,
      "outputs": []
    },
    {
      "cell_type": "code",
      "metadata": {
        "id": "Mls1-k-tpn4P",
        "colab_type": "code",
        "colab": {}
      },
      "source": [
        "mv $iface_data/make_valid_bin.py /content/iface/insightface_for_face_recognition-master/make_rec/"
      ],
      "execution_count": 0,
      "outputs": []
    },
    {
      "cell_type": "code",
      "metadata": {
        "id": "ZiI5m1e4rVgo",
        "colab_type": "code",
        "colab": {}
      },
      "source": [
        "more make_valid_bin.py"
      ],
      "execution_count": 0,
      "outputs": []
    },
    {
      "cell_type": "code",
      "metadata": {
        "id": "az7ZKiIEk_Q_",
        "colab_type": "code",
        "colab": {}
      },
      "source": [
        "cd insightface_for_face_recognition-master/make_rec/"
      ],
      "execution_count": 0,
      "outputs": []
    },
    {
      "cell_type": "code",
      "metadata": {
        "id": "PPJEFHVnlTge",
        "colab_type": "code",
        "colab": {}
      },
      "source": [
        "rm ../dataset/train/valid.bin"
      ],
      "execution_count": 0,
      "outputs": []
    },
    {
      "cell_type": "code",
      "metadata": {
        "id": "ylETsd1KDXpi",
        "colab_type": "code",
        "outputId": "f22b60fb-3d01-4cba-d0d8-81d3ffab8c89",
        "colab": {
          "base_uri": "https://localhost:8080/",
          "height": 34
        }
      },
      "source": [
        "!python make_valid_bin.py --data-dir '../dataset/valid_images/' --output ../dataset/train/valid.bin --txtfile ../dataset/valid/valid.txt"
      ],
      "execution_count": 0,
      "outputs": [
        {
          "output_type": "stream",
          "text": [
            "../dataset/image_valid/Norm_Coleman/11661.jpg\n"
          ],
          "name": "stdout"
        }
      ]
    },
    {
      "cell_type": "code",
      "metadata": {
        "id": "FDrapQA9TFbg",
        "colab_type": "code",
        "outputId": "3a6a0b10-9644-4aa5-f61f-0d5a01a5ac9e",
        "colab": {
          "base_uri": "https://localhost:8080/",
          "height": 34
        }
      },
      "source": [
        "!ls -l ../dataset/train/valid.bin"
      ],
      "execution_count": 0,
      "outputs": [
        {
          "output_type": "stream",
          "text": [
            "-rw-r--r-- 1 root root 28466851 Jun 30 14:01 ../dataset/train/valid.bin\n"
          ],
          "name": "stdout"
        }
      ]
    },
    {
      "cell_type": "code",
      "metadata": {
        "id": "kTVur6H7l690",
        "colab_type": "code",
        "colab": {}
      },
      "source": [
        "!cp ../dataset/train/valid.bin $iface_data"
      ],
      "execution_count": 0,
      "outputs": []
    },
    {
      "cell_type": "markdown",
      "metadata": {
        "id": "OtBIgSwwUcTN",
        "colab_type": "text"
      },
      "source": [
        "# Trainning data"
      ]
    },
    {
      "cell_type": "code",
      "metadata": {
        "id": "mMpnjlhrUjTX",
        "colab_type": "code",
        "outputId": "72f19287-52b4-48a2-fd15-1d02ed3b09e2",
        "colab": {
          "base_uri": "https://localhost:8080/",
          "height": 34
        }
      },
      "source": [
        "cd /content/iface/insightface_for_face_recognition-master/"
      ],
      "execution_count": 0,
      "outputs": [
        {
          "output_type": "stream",
          "text": [
            "/content/iface/insightface_for_face_recognition-master\n"
          ],
          "name": "stdout"
        }
      ]
    },
    {
      "cell_type": "code",
      "metadata": {
        "id": "GYL8MC7TU6bu",
        "colab_type": "code",
        "colab": {}
      },
      "source": [
        "mv ../models/ ."
      ],
      "execution_count": 0,
      "outputs": []
    },
    {
      "cell_type": "code",
      "metadata": {
        "id": "bS_nA-rKV3fH",
        "colab_type": "code",
        "outputId": "de95c7b4-fb99-447a-dbbd-ad00f679e60f",
        "colab": {
          "base_uri": "https://localhost:8080/",
          "height": 34
        }
      },
      "source": [
        "cd .."
      ],
      "execution_count": 0,
      "outputs": [
        {
          "output_type": "stream",
          "text": [
            "/content/iface\n"
          ],
          "name": "stdout"
        }
      ]
    },
    {
      "cell_type": "code",
      "metadata": {
        "id": "QtGo1symWwJ6",
        "colab_type": "code",
        "colab": {}
      },
      "source": [
        "!tar zxvf image_train.tgz"
      ],
      "execution_count": 0,
      "outputs": []
    },
    {
      "cell_type": "code",
      "metadata": {
        "id": "Z7SniPdwiWgP",
        "colab_type": "code",
        "outputId": "c11270f4-f9a0-4f76-a84f-775db122c8a0",
        "colab": {
          "base_uri": "https://localhost:8080/",
          "height": 34
        }
      },
      "source": [
        "cd /content/iface/"
      ],
      "execution_count": 0,
      "outputs": [
        {
          "output_type": "stream",
          "text": [
            "/content/iface\n"
          ],
          "name": "stdout"
        }
      ]
    },
    {
      "cell_type": "code",
      "metadata": {
        "id": "rSLk92GUmT90",
        "colab_type": "code",
        "outputId": "4aba53e3-4fda-4f30-b167-bf53ea733bc8",
        "colab": {
          "base_uri": "https://localhost:8080/",
          "height": 68
        }
      },
      "source": [
        "ls -l insightface_for_face_recognition-master/dataset/train"
      ],
      "execution_count": 0,
      "outputs": [
        {
          "output_type": "stream",
          "text": [
            "total 27804\n",
            "-rw-rw-r-- 1 root root       13 Jun 22 08:10 property\n",
            "-rw-r--r-- 1 root root 28466851 Jun 30 14:01 valid.bin\n"
          ],
          "name": "stdout"
        }
      ]
    },
    {
      "cell_type": "code",
      "metadata": {
        "id": "ao2d1di3qq8D",
        "colab_type": "code",
        "colab": {}
      },
      "source": [
        "!mv /content/iface/image_train/ insightface_for_face_recognition-master/dataset/"
      ],
      "execution_count": 0,
      "outputs": []
    },
    {
      "cell_type": "code",
      "metadata": {
        "id": "i9Emu7L1qjXS",
        "colab_type": "code",
        "outputId": "0e2bff40-de8d-4ac3-b730-08809b6d0996",
        "colab": {
          "base_uri": "https://localhost:8080/",
          "height": 34
        }
      },
      "source": [
        "ls insightface_for_face_recognition-master/dataset/"
      ],
      "execution_count": 0,
      "outputs": [
        {
          "output_type": "stream",
          "text": [
            "\u001b[0m\u001b[01;34mimage_train\u001b[0m/  \u001b[01;34mimage_valid\u001b[0m/  \u001b[01;34mtrain\u001b[0m/  train_valid.py  \u001b[01;34mvalid\u001b[0m/  程序说明.txt\n"
          ],
          "name": "stdout"
        }
      ]
    },
    {
      "cell_type": "code",
      "metadata": {
        "id": "R0fbyEccrDc1",
        "colab_type": "code",
        "outputId": "47a1fe77-9edc-4e48-c454-c3a91940c20b",
        "colab": {
          "base_uri": "https://localhost:8080/",
          "height": 34
        }
      },
      "source": [
        "cd /content/iface/insightface_for_face_recognition-master/train"
      ],
      "execution_count": 0,
      "outputs": [
        {
          "output_type": "stream",
          "text": [
            "/content/iface/insightface_for_face_recognition-master/train\n"
          ],
          "name": "stdout"
        }
      ]
    },
    {
      "cell_type": "code",
      "metadata": {
        "id": "CoeLSEOSt8Y_",
        "colab_type": "code",
        "outputId": "427be8cb-c340-4294-ddd3-a50b3f65eb81",
        "colab": {
          "base_uri": "https://localhost:8080/",
          "height": 34
        }
      },
      "source": [
        "ls ../dataset/image_train/ | wc"
      ],
      "execution_count": 0,
      "outputs": [
        {
          "output_type": "stream",
          "text": [
            "   5188    5188  142445\n"
          ],
          "name": "stdout"
        }
      ]
    },
    {
      "cell_type": "code",
      "metadata": {
        "id": "kWqqVmtctk8Z",
        "colab_type": "code",
        "colab": {}
      },
      "source": [
        "!mkdir /content/iface/insightface_for_face_recognition-master/dataset/image_train/"
      ],
      "execution_count": 0,
      "outputs": []
    },
    {
      "cell_type": "code",
      "metadata": {
        "id": "O283moFBvFgO",
        "colab_type": "code",
        "colab": {}
      },
      "source": [
        "cp $iface_data/property /content/iface/insightface_for_face_recognition-master/dataset/image_train/"
      ],
      "execution_count": 0,
      "outputs": []
    },
    {
      "cell_type": "code",
      "metadata": {
        "id": "Deq8A0F7vRf4",
        "colab_type": "code",
        "outputId": "c83f65ec-854b-4db3-e084-829d7864b727",
        "colab": {
          "base_uri": "https://localhost:8080/",
          "height": 34
        }
      },
      "source": [
        "!more ../dataset/image_train/property"
      ],
      "execution_count": 0,
      "outputs": [
        {
          "output_type": "stream",
          "text": [
            "5188,112,112\n"
          ],
          "name": "stdout"
        }
      ]
    },
    {
      "cell_type": "code",
      "metadata": {
        "id": "9ogpj-9NwFzP",
        "colab_type": "code",
        "colab": {}
      },
      "source": [
        "!cp $iface_data/train_list.rec ../dataset/image_train/train.rec"
      ],
      "execution_count": 0,
      "outputs": []
    },
    {
      "cell_type": "code",
      "metadata": {
        "id": "Vc0vCqZL1spG",
        "colab_type": "code",
        "colab": {}
      },
      "source": [
        "!cp $iface_data/train_list.idx ../dataset/image_train/train.idx"
      ],
      "execution_count": 0,
      "outputs": []
    },
    {
      "cell_type": "code",
      "metadata": {
        "id": "QHodQI-kxw6F",
        "colab_type": "code",
        "colab": {}
      },
      "source": [
        "!cp $iface_data/train_softmax_my.py ."
      ],
      "execution_count": 0,
      "outputs": []
    },
    {
      "cell_type": "code",
      "metadata": {
        "id": "ZIotkMGCt6gn",
        "colab_type": "code",
        "outputId": "0d2c190d-7669-4863-fc6a-b5550bf4ec57",
        "colab": {
          "base_uri": "https://localhost:8080/",
          "height": 357
        }
      },
      "source": [
        "ls -l "
      ],
      "execution_count": 0,
      "outputs": [
        {
          "output_type": "stream",
          "text": [
            "total 304\n",
            "drwx------ 2 root root   4096 Jun 14 05:51 \u001b[0m\u001b[01;34mcommon\u001b[0m/\n",
            "-rw-rw-r-- 1 root root    544 Jan 24 15:35 data_augment.py\n",
            "drwxrwxr-x 3 root root   4096 Jun 22 09:37 \u001b[01;34mdataset\u001b[0m/\n",
            "drwx------ 3 root root   4096 Jun 22 08:40 \u001b[01;34meval\u001b[0m/\n",
            "-rw-rw-r-- 1 root root   8354 Jan 24 15:35 face_image.py\n",
            "-rw-rw-r-- 1 root root   8447 Jun 22 08:18 face_image.pyc\n",
            "-rw-rw-r-- 1 root root   3103 Jan 24 15:35 face_preprocess.py\n",
            "-rw-rw-r-- 1 root root   3577 Jun 22 08:18 face_preprocess.pyc\n",
            "-rw-rw-r-- 1 root root  10040 Jan 24 15:35 image_iter.py\n",
            "-rw-rw-r-- 1 root root  11255 Jun 22 08:18 image_iter.pyc\n",
            "-rw-rw-r-- 1 root root 179490 Jun 25 06:27 log.txt\n",
            "drwxrwxr-x 3 root root   4096 Jun 22 09:35 \u001b[01;34mmodels\u001b[0m/\n",
            "drwxrwxr-x 2 root root   4096 Jun 22 09:38 \u001b[01;34mmy_model\u001b[0m/\n",
            "drwxrwxr-x 2 root root   4096 Jun 22 08:40 \u001b[01;34m__pycache__\u001b[0m/\n",
            "-rw-rw-r-- 1 root root   2762 Jun 25 05:45 result_com.txt\n",
            "-rw-rw-r-- 1 root root   4181 Jun 25 05:45 result.txt\n",
            "drwx------ 4 root root   4096 Jun 22 09:35 \u001b[01;34msymbols\u001b[0m/\n",
            "-rw-rw-r-- 1 root root  22616 Jun 23 14:13 train_softmax_my.py\n",
            "-rw-rw-r-- 1 root root    281 Jan 24 15:35 train_softmax_my.sh\n"
          ],
          "name": "stdout"
        }
      ]
    },
    {
      "cell_type": "code",
      "metadata": {
        "id": "OuXbFRCpu_0t",
        "colab_type": "code",
        "colab": {}
      },
      "source": [
        "more train_softmax_my.py"
      ],
      "execution_count": 0,
      "outputs": []
    },
    {
      "cell_type": "code",
      "metadata": {
        "id": "w7bSGZ0o0fhv",
        "colab_type": "code",
        "outputId": "6487f023-9ac1-4e92-8b90-52ae041d3b2d",
        "colab": {
          "base_uri": "https://localhost:8080/",
          "height": 34
        }
      },
      "source": [
        "%env CUDA_VISIBLE_DEVICES=0"
      ],
      "execution_count": 0,
      "outputs": [
        {
          "output_type": "stream",
          "text": [
            "env: CUDA_VISIBLE_DEVICES=0\n"
          ],
          "name": "stdout"
        }
      ]
    },
    {
      "cell_type": "code",
      "metadata": {
        "id": "jON660FBq3h7",
        "colab_type": "code",
        "outputId": "25f495b5-0977-4ce5-d8e3-16f842ce0b32",
        "colab": {
          "base_uri": "https://localhost:8080/",
          "height": 1000
        }
      },
      "source": [
        "!python -u  train_softmax_my.py --prefix ../my_model/ --pretrained ../models/model-r50-am-lfw/model,0000 --loss-type 4 --margin-m 0.1 --data-dir ../dataset/image_train --per-batch-size 128 --version-se 1 --verbose 1000 --target valid --margin-s 64 --emb-size 512"
      ],
      "execution_count": 0,
      "outputs": [
        {
          "output_type": "stream",
          "text": [
            "gpu num: 1\n",
            "num_layers 50\n",
            "data_dir_list:  ['../dataset/image_train']\n",
            "image_size [112, 112]\n",
            "num_classes:  5188\n",
            "***Called with argument: Namespace(batch_size=128, beta=1000.0, beta_freeze=0, beta_min=5.0, bn_mom=0.9, ckpt=1, ctx_num=1, cutoff=0, data_dir='../dataset/image_train', easy_margin=0, emb_size=512, end_epoch=100000, fc7_lr_mult=1.0, fc7_wd_mult=1.0, gamma=0.12, image_channel=3, image_h=112, image_w=112, loss_type=4, lr=0.1, lr_steps='', margin=4, margin_a=1.0, margin_b=0.0, margin_m=0.1, margin_s=64.0, max_steps=0, mom=0.9, network='r50', num_classes=5188, num_layers=50, per_batch_size=128, power=1.0, prefix='../my_model/', pretrained='../models/model-r50-am-lfw/model,0000', rand_mirror=1, rescale_threshold=0, scale=0.9993, target='valid', use_deformable=0, verbose=1000, version_act='prelu', version_input=1, version_output='E', version_se=1, version_unit=3, wd=0.0005)\n",
            "***loading ['../models/model-r50-am-lfw/model', '0000']\n",
            "[14:17:11] src/nnvm/legacy_json_util.cc:209: Loading symbol saved by previous version v0.12.1. Attempting to upgrade...\n",
            "[14:17:11] src/nnvm/legacy_json_util.cc:217: Symbol successfully upgraded!\n",
            "***network:  r50\n",
            "init resnet, 层数:  50\n",
            "1 1 E 3 prelu\n",
            "loading  ../dataset/image_train/train.rec\n",
            "INFO:root:loading recordio ../dataset/image_train/train.rec...\n",
            "11910\n",
            "rand_mirror 1\n",
            "lr_steps [100000, 140000, 160000]\n",
            "call reset()\n",
            "/usr/local/lib/python2.7/dist-packages/mxnet/module/base_module.py:505: UserWarning: Optimizer created manually outside Module but rescale_grad is not normalized to 1.0/batch_size/num_workers (1.0 vs. 0.0078125). Is this intended?\n",
            "  optimizer_params=optimizer_params)\n",
            "[14:17:15] src/operator/nn/./cudnn/./cudnn_algoreg-inl.h:97: Running performance tests to find the best convolution algorithm, this can take a while... (setting env variable MXNET_CUDNN_AUTOTUNE_DEFAULT to 0 to disable)\n",
            "lr-batch-epoch: 0.1 0 0\n",
            "[]\n",
            "[0]Accuracy-Highest: 0.00000\n",
            "INFO:root:Epoch[0] Batch [0-64]\tSpeed: 80.46 samples/sec\tacc=0.013702\n",
            "INFO:root:Epoch[0] Train-acc=0.013189\n",
            "INFO:root:Epoch[0] Time cost=151.264\n",
            "call reset()\n",
            "INFO:root:Epoch[1] Batch [0-64]\tSpeed: 80.48 samples/sec\tacc=0.030288\n",
            "INFO:root:Epoch[1] Train-acc=0.035198\n",
            "INFO:root:Epoch[1] Time cost=147.856\n",
            "call reset()\n",
            "INFO:root:Epoch[2] Batch [0-64]\tSpeed: 80.38 samples/sec\tacc=0.083774\n",
            "INFO:root:Epoch[2] Train-acc=0.084425\n",
            "INFO:root:Epoch[2] Time cost=147.963\n",
            "call reset()\n",
            "INFO:root:Epoch[3] Batch [0-64]\tSpeed: 80.37 samples/sec\tacc=0.191226\n",
            "INFO:root:Epoch[3] Train-acc=0.187248\n",
            "INFO:root:Epoch[3] Time cost=147.934\n",
            "call reset()\n",
            "INFO:root:Epoch[4] Batch [0-64]\tSpeed: 80.40 samples/sec\tacc=0.384736\n",
            "INFO:root:Epoch[4] Train-acc=0.372732\n",
            "INFO:root:Epoch[4] Time cost=147.982\n",
            "call reset()\n",
            "INFO:root:Epoch[5] Batch [0-64]\tSpeed: 80.39 samples/sec\tacc=0.591466\n",
            "INFO:root:Epoch[5] Train-acc=0.571909\n",
            "INFO:root:Epoch[5] Time cost=147.945\n",
            "call reset()\n",
            "INFO:root:Epoch[6] Batch [0-64]\tSpeed: 80.43 samples/sec\tacc=0.708053\n",
            "INFO:root:Epoch[6] Train-acc=0.697497\n",
            "INFO:root:Epoch[6] Time cost=147.850\n",
            "call reset()\n",
            "INFO:root:Epoch[7] Batch [0-64]\tSpeed: 80.42 samples/sec\tacc=0.788702\n",
            "INFO:root:Epoch[7] Train-acc=0.778982\n",
            "INFO:root:Epoch[7] Time cost=147.877\n",
            "call reset()\n",
            "INFO:root:Epoch[8] Batch [0-64]\tSpeed: 80.37 samples/sec\tacc=0.835216\n",
            "INFO:root:Epoch[8] Train-acc=0.817624\n",
            "INFO:root:Epoch[8] Time cost=147.872\n",
            "call reset()\n",
            "INFO:root:Epoch[9] Batch [0-64]\tSpeed: 80.39 samples/sec\tacc=0.854688\n",
            "INFO:root:Epoch[9] Train-acc=0.848286\n",
            "INFO:root:Epoch[9] Time cost=147.909\n",
            "call reset()\n",
            "INFO:root:Epoch[10] Batch [0-64]\tSpeed: 80.39 samples/sec\tacc=0.888462\n",
            "lr-batch-epoch: 0.1 70 10\n",
            "[]\n",
            "[1000]Accuracy-Highest: 0.00000\n",
            "INFO:root:Epoch[10] Train-acc=0.882056\n",
            "INFO:root:Epoch[10] Time cost=147.868\n",
            "call reset()\n",
            "INFO:root:Epoch[11] Batch [0-64]\tSpeed: 80.42 samples/sec\tacc=0.914784\n",
            "INFO:root:Epoch[11] Train-acc=0.909526\n",
            "INFO:root:Epoch[11] Time cost=147.939\n",
            "call reset()\n",
            "INFO:root:Epoch[12] Batch [0-64]\tSpeed: 80.42 samples/sec\tacc=0.926082\n",
            "INFO:root:Epoch[12] Train-acc=0.922127\n",
            "INFO:root:Epoch[12] Time cost=147.871\n",
            "call reset()\n",
            "INFO:root:Epoch[13] Batch [0-64]\tSpeed: 80.41 samples/sec\tacc=0.940625\n",
            "INFO:root:Epoch[13] Train-acc=0.931116\n",
            "INFO:root:Epoch[13] Time cost=147.860\n",
            "call reset()\n",
            "INFO:root:Epoch[14] Batch [0-64]\tSpeed: 80.41 samples/sec\tacc=0.948558\n",
            "INFO:root:Epoch[14] Train-acc=0.941364\n",
            "INFO:root:Epoch[14] Time cost=147.945\n",
            "call reset()\n",
            "INFO:root:Epoch[15] Batch [0-64]\tSpeed: 80.39 samples/sec\tacc=0.947716\n",
            "INFO:root:Epoch[15] Train-acc=0.943632\n",
            "INFO:root:Epoch[15] Time cost=147.873\n",
            "call reset()\n",
            "INFO:root:Epoch[16] Batch [0-64]\tSpeed: 80.42 samples/sec\tacc=0.954087\n",
            "INFO:root:Epoch[16] Train-acc=0.948925\n",
            "INFO:root:Epoch[16] Time cost=147.874\n",
            "call reset()\n",
            "INFO:root:Epoch[17] Batch [0-64]\tSpeed: 80.42 samples/sec\tacc=0.953726\n",
            "INFO:root:Epoch[17] Train-acc=0.947833\n",
            "INFO:root:Epoch[17] Time cost=147.936\n",
            "call reset()\n",
            "INFO:root:Epoch[18] Batch [0-64]\tSpeed: 80.43 samples/sec\tacc=0.956490\n",
            "INFO:root:Epoch[18] Train-acc=0.949513\n",
            "INFO:root:Epoch[18] Time cost=147.766\n",
            "call reset()\n",
            "INFO:root:Epoch[19] Batch [0-64]\tSpeed: 80.41 samples/sec\tacc=0.943630\n",
            "INFO:root:Epoch[19] Train-acc=0.938172\n",
            "INFO:root:Epoch[19] Time cost=147.866\n",
            "call reset()\n",
            "INFO:root:Epoch[20] Batch [0-64]\tSpeed: 80.41 samples/sec\tacc=0.947115\n",
            "INFO:root:Epoch[20] Train-acc=0.940776\n",
            "INFO:root:Epoch[20] Time cost=147.884\n",
            "call reset()\n",
            "lr-batch-epoch: 0.1 47 21\n",
            "[]\n",
            "[2000]Accuracy-Highest: 0.00000\n",
            "INFO:root:Epoch[21] Batch [0-64]\tSpeed: 80.40 samples/sec\tacc=0.943990\n",
            "INFO:root:Epoch[21] Train-acc=0.937500\n",
            "INFO:root:Epoch[21] Time cost=147.969\n",
            "call reset()\n",
            "INFO:root:Epoch[22] Batch [0-64]\tSpeed: 80.45 samples/sec\tacc=0.941587\n",
            "INFO:root:Epoch[22] Train-acc=0.931536\n",
            "INFO:root:Epoch[22] Time cost=147.865\n",
            "call reset()\n",
            "INFO:root:Epoch[23] Batch [0-64]\tSpeed: 80.46 samples/sec\tacc=0.935937\n",
            "INFO:root:Epoch[23] Train-acc=0.927251\n",
            "INFO:root:Epoch[23] Time cost=147.877\n",
            "call reset()\n",
            "INFO:root:Epoch[24] Batch [0-64]\tSpeed: 80.37 samples/sec\tacc=0.935817\n",
            "INFO:root:Epoch[24] Train-acc=0.926243\n",
            "INFO:root:Epoch[24] Time cost=147.918\n",
            "call reset()\n",
            "INFO:root:Epoch[25] Batch [0-64]\tSpeed: 80.39 samples/sec\tacc=0.932572\n",
            "INFO:root:Epoch[25] Train-acc=0.923555\n",
            "INFO:root:Epoch[25] Time cost=147.810\n",
            "call reset()\n",
            "INFO:root:Epoch[26] Batch [0-64]\tSpeed: 80.40 samples/sec\tacc=0.938822\n",
            "INFO:root:Epoch[26] Train-acc=0.931956\n",
            "INFO:root:Epoch[26] Time cost=147.846\n",
            "call reset()\n",
            "INFO:root:Epoch[27] Batch [0-64]\tSpeed: 80.41 samples/sec\tacc=0.936899\n",
            "INFO:root:Epoch[27] Train-acc=0.930864\n",
            "INFO:root:Epoch[27] Time cost=147.956\n",
            "call reset()\n",
            "INFO:root:Epoch[28] Batch [0-64]\tSpeed: 80.43 samples/sec\tacc=0.939784\n",
            "INFO:root:Epoch[28] Train-acc=0.936996\n",
            "INFO:root:Epoch[28] Time cost=147.820\n",
            "call reset()\n",
            "INFO:root:Epoch[29] Batch [0-64]\tSpeed: 80.43 samples/sec\tacc=0.947356\n",
            "INFO:root:Epoch[29] Train-acc=0.939012\n",
            "INFO:root:Epoch[29] Time cost=147.896\n",
            "call reset()\n",
            "INFO:root:Epoch[30] Batch [0-64]\tSpeed: 80.40 samples/sec\tacc=0.945192\n",
            "INFO:root:Epoch[30] Train-acc=0.940020\n",
            "INFO:root:Epoch[30] Time cost=147.930\n",
            "call reset()\n",
            "INFO:root:Epoch[31] Batch [0-64]\tSpeed: 80.42 samples/sec\tacc=0.949279\n",
            "INFO:root:Epoch[31] Train-acc=0.941532\n",
            "INFO:root:Epoch[31] Time cost=147.729\n",
            "call reset()\n",
            "lr-batch-epoch: 0.1 24 32\n",
            "[]\n",
            "[3000]Accuracy-Highest: 0.00000\n",
            "INFO:root:Epoch[32] Batch [0-64]\tSpeed: 80.38 samples/sec\tacc=0.947115\n",
            "INFO:root:Epoch[32] Train-acc=0.938760\n",
            "INFO:root:Epoch[32] Time cost=147.948\n",
            "call reset()\n",
            "INFO:root:Epoch[33] Batch [0-64]\tSpeed: 80.40 samples/sec\tacc=0.943029\n",
            "INFO:root:Epoch[33] Train-acc=0.940104\n",
            "INFO:root:Epoch[33] Time cost=147.867\n",
            "call reset()\n",
            "INFO:root:Epoch[34] Batch [0-64]\tSpeed: 80.43 samples/sec\tacc=0.946394\n",
            "INFO:root:Epoch[34] Train-acc=0.938592\n",
            "INFO:root:Epoch[34] Time cost=147.844\n",
            "call reset()\n",
            "INFO:root:Epoch[35] Batch [0-64]\tSpeed: 80.42 samples/sec\tacc=0.946274\n",
            "INFO:root:Epoch[35] Train-acc=0.941700\n",
            "INFO:root:Epoch[35] Time cost=147.872\n",
            "call reset()\n",
            "INFO:root:Epoch[36] Batch [0-64]\tSpeed: 80.41 samples/sec\tacc=0.944832\n",
            "INFO:root:Epoch[36] Train-acc=0.941448\n",
            "INFO:root:Epoch[36] Time cost=147.892\n",
            "call reset()\n",
            "INFO:root:Epoch[37] Batch [0-64]\tSpeed: 80.39 samples/sec\tacc=0.947716\n",
            "INFO:root:Epoch[37] Train-acc=0.942876\n",
            "INFO:root:Epoch[37] Time cost=147.951\n",
            "call reset()\n",
            "INFO:root:Epoch[38] Batch [0-64]\tSpeed: 80.46 samples/sec\tacc=0.943269\n",
            "INFO:root:Epoch[38] Train-acc=0.936828\n",
            "INFO:root:Epoch[38] Time cost=147.844\n",
            "call reset()\n",
            "INFO:root:Epoch[39] Batch [0-64]\tSpeed: 80.43 samples/sec\tacc=0.943389\n",
            "INFO:root:Epoch[39] Train-acc=0.937752\n",
            "INFO:root:Epoch[39] Time cost=147.815\n",
            "call reset()\n",
            "INFO:root:Epoch[40] Batch [0-64]\tSpeed: 80.42 samples/sec\tacc=0.942428\n",
            "INFO:root:Epoch[40] Train-acc=0.937080\n",
            "INFO:root:Epoch[40] Time cost=147.842\n",
            "call reset()\n",
            "INFO:root:Epoch[41] Batch [0-64]\tSpeed: 80.37 samples/sec\tacc=0.947957\n",
            "INFO:root:Epoch[41] Train-acc=0.944976\n",
            "INFO:root:Epoch[41] Time cost=147.965\n",
            "call reset()\n",
            "INFO:root:Epoch[42] Batch [0-64]\tSpeed: 80.39 samples/sec\tacc=0.951803\n",
            "INFO:root:Epoch[42] Train-acc=0.947077\n",
            "INFO:root:Epoch[42] Time cost=147.883\n",
            "call reset()\n",
            "lr-batch-epoch: 0.1 1 43\n",
            "[]\n",
            "[4000]Accuracy-Highest: 0.00000\n",
            "INFO:root:Epoch[43] Batch [0-64]\tSpeed: 80.40 samples/sec\tacc=0.952524\n",
            "INFO:root:Epoch[43] Train-acc=0.946489\n",
            "INFO:root:Epoch[43] Time cost=147.796\n",
            "call reset()\n",
            "INFO:root:Epoch[44] Batch [0-64]\tSpeed: 80.41 samples/sec\tacc=0.948197\n",
            "INFO:root:Epoch[44] Train-acc=0.940020\n",
            "INFO:root:Epoch[44] Time cost=147.928\n",
            "call reset()\n",
            "INFO:root:Epoch[45] Batch [0-64]\tSpeed: 80.41 samples/sec\tacc=0.948317\n",
            "INFO:root:Epoch[45] Train-acc=0.942540\n",
            "INFO:root:Epoch[45] Time cost=147.878\n",
            "call reset()\n",
            "INFO:root:Epoch[46] Batch [0-64]\tSpeed: 80.42 samples/sec\tacc=0.945072\n",
            "INFO:root:Epoch[46] Train-acc=0.940692\n",
            "INFO:root:Epoch[46] Time cost=147.848\n",
            "call reset()\n",
            "INFO:root:Epoch[47] Batch [0-64]\tSpeed: 80.40 samples/sec\tacc=0.947236\n",
            "INFO:root:Epoch[47] Train-acc=0.941112\n",
            "INFO:root:Epoch[47] Time cost=147.877\n",
            "call reset()\n",
            "INFO:root:Epoch[48] Batch [0-64]\tSpeed: 80.39 samples/sec\tacc=0.950841\n",
            "INFO:root:Epoch[48] Train-acc=0.941952\n",
            "INFO:root:Epoch[48] Time cost=147.971\n",
            "call reset()\n",
            "INFO:root:Epoch[49] Batch [0-64]\tSpeed: 80.44 samples/sec\tacc=0.941106\n",
            "INFO:root:Epoch[49] Train-acc=0.937500\n",
            "INFO:root:Epoch[49] Time cost=147.604\n",
            "call reset()\n",
            "INFO:root:Epoch[50] Batch [0-64]\tSpeed: 80.32 samples/sec\tacc=0.951202\n",
            "INFO:root:Epoch[50] Train-acc=0.947077\n",
            "INFO:root:Epoch[50] Time cost=147.952\n",
            "call reset()\n",
            "INFO:root:Epoch[51] Batch [0-64]\tSpeed: 80.37 samples/sec\tacc=0.952043\n",
            "INFO:root:Epoch[51] Train-acc=0.946741\n",
            "INFO:root:Epoch[51] Time cost=147.984\n",
            "call reset()\n",
            "INFO:root:Epoch[52] Batch [0-64]\tSpeed: 80.33 samples/sec\tacc=0.955288\n",
            "INFO:root:Epoch[52] Train-acc=0.949093\n",
            "INFO:root:Epoch[52] Time cost=148.025\n",
            "call reset()\n",
            "INFO:root:Epoch[53] Batch [0-64]\tSpeed: 80.38 samples/sec\tacc=0.955048\n",
            "lr-batch-epoch: 0.1 71 53\n",
            "[]\n",
            "[5000]Accuracy-Highest: 0.00000\n",
            "INFO:root:Epoch[53] Train-acc=0.949849\n",
            "INFO:root:Epoch[53] Time cost=147.913\n",
            "call reset()\n",
            "INFO:root:Epoch[54] Batch [0-64]\tSpeed: 80.36 samples/sec\tacc=0.958413\n",
            "INFO:root:Epoch[54] Train-acc=0.956149\n",
            "INFO:root:Epoch[54] Time cost=147.884\n",
            "call reset()\n",
            "INFO:root:Epoch[55] Batch [0-64]\tSpeed: 80.30 samples/sec\tacc=0.956010\n",
            "INFO:root:Epoch[55] Train-acc=0.952621\n",
            "INFO:root:Epoch[55] Time cost=148.129\n",
            "call reset()\n",
            "INFO:root:Epoch[56] Batch [0-64]\tSpeed: 80.27 samples/sec\tacc=0.957572\n",
            "INFO:root:Epoch[56] Train-acc=0.953881\n",
            "INFO:root:Epoch[56] Time cost=148.161\n",
            "call reset()\n",
            "INFO:root:Epoch[57] Batch [0-64]\tSpeed: 80.29 samples/sec\tacc=0.953966\n",
            "INFO:root:Epoch[57] Train-acc=0.949177\n",
            "INFO:root:Epoch[57] Time cost=148.026\n",
            "call reset()\n",
            "INFO:root:Epoch[58] Batch [0-64]\tSpeed: 80.38 samples/sec\tacc=0.951562\n",
            "INFO:root:Epoch[58] Train-acc=0.945901\n",
            "INFO:root:Epoch[58] Time cost=147.905\n",
            "call reset()\n",
            "INFO:root:Epoch[59] Batch [0-64]\tSpeed: 80.35 samples/sec\tacc=0.944111\n",
            "INFO:root:Epoch[59] Train-acc=0.938172\n",
            "INFO:root:Epoch[59] Time cost=148.029\n",
            "call reset()\n",
            "INFO:root:Epoch[60] Batch [0-64]\tSpeed: 80.22 samples/sec\tacc=0.948918\n",
            "INFO:root:Epoch[60] Train-acc=0.943800\n",
            "INFO:root:Epoch[60] Time cost=148.235\n",
            "call reset()\n",
            "INFO:root:Epoch[61] Batch [0-64]\tSpeed: 80.41 samples/sec\tacc=0.950240\n",
            "INFO:root:Epoch[61] Train-acc=0.942540\n",
            "INFO:root:Epoch[61] Time cost=147.815\n",
            "call reset()\n",
            "INFO:root:Epoch[62] Batch [0-64]\tSpeed: 80.27 samples/sec\tacc=0.944712\n",
            "INFO:root:Epoch[62] Train-acc=0.941196\n",
            "INFO:root:Epoch[62] Time cost=148.268\n",
            "call reset()\n",
            "INFO:root:Epoch[63] Batch [0-64]\tSpeed: 80.35 samples/sec\tacc=0.953125\n",
            "INFO:root:Epoch[63] Train-acc=0.947077\n",
            "INFO:root:Epoch[63] Time cost=147.941\n",
            "call reset()\n",
            "lr-batch-epoch: 0.1 48 64\n",
            "[]\n",
            "[6000]Accuracy-Highest: 0.00000\n",
            "INFO:root:Epoch[64] Batch [0-64]\tSpeed: 80.29 samples/sec\tacc=0.953966\n",
            "INFO:root:Epoch[64] Train-acc=0.949261\n",
            "INFO:root:Epoch[64] Time cost=148.086\n",
            "call reset()\n",
            "INFO:root:Epoch[65] Batch [0-64]\tSpeed: 80.38 samples/sec\tacc=0.957692\n",
            "INFO:root:Epoch[65] Train-acc=0.951697\n",
            "INFO:root:Epoch[65] Time cost=148.086\n",
            "call reset()\n",
            "INFO:root:Epoch[66] Batch [0-64]\tSpeed: 80.38 samples/sec\tacc=0.952764\n",
            "INFO:root:Epoch[66] Train-acc=0.948925\n",
            "INFO:root:Epoch[66] Time cost=147.869\n",
            "call reset()\n",
            "INFO:root:Epoch[67] Batch [0-64]\tSpeed: 80.28 samples/sec\tacc=0.956010\n",
            "INFO:root:Epoch[67] Train-acc=0.951613\n",
            "INFO:root:Epoch[67] Time cost=148.065\n",
            "call reset()\n",
            "INFO:root:Epoch[68] Batch [0-64]\tSpeed: 80.40 samples/sec\tacc=0.959375\n",
            "INFO:root:Epoch[68] Train-acc=0.958249\n",
            "INFO:root:Epoch[68] Time cost=147.868\n",
            "call reset()\n",
            "INFO:root:Epoch[69] Batch [0-64]\tSpeed: 80.29 samples/sec\tacc=0.963942\n",
            "INFO:root:Epoch[69] Train-acc=0.960265\n",
            "INFO:root:Epoch[69] Time cost=148.157\n",
            "call reset()\n",
            "INFO:root:Epoch[70] Batch [0-64]\tSpeed: 80.33 samples/sec\tacc=0.962500\n",
            "INFO:root:Epoch[70] Train-acc=0.959509\n",
            "INFO:root:Epoch[70] Time cost=148.018\n",
            "call reset()\n",
            "INFO:root:Epoch[71] Batch [0-64]\tSpeed: 80.25 samples/sec\tacc=0.959375\n",
            "INFO:root:Epoch[71] Train-acc=0.956989\n",
            "INFO:root:Epoch[71] Time cost=148.120\n",
            "call reset()\n",
            "INFO:root:Epoch[72] Batch [0-64]\tSpeed: 80.11 samples/sec\tacc=0.956130\n",
            "INFO:root:Epoch[72] Train-acc=0.951109\n",
            "INFO:root:Epoch[72] Time cost=148.337\n",
            "call reset()\n",
            "INFO:root:Epoch[73] Batch [0-64]\tSpeed: 80.37 samples/sec\tacc=0.950962\n",
            "INFO:root:Epoch[73] Train-acc=0.946573\n",
            "INFO:root:Epoch[73] Time cost=147.925\n",
            "call reset()\n",
            "INFO:root:Epoch[74] Batch [0-64]\tSpeed: 80.30 samples/sec\tacc=0.948678\n",
            "INFO:root:Epoch[74] Train-acc=0.944136\n",
            "INFO:root:Epoch[74] Time cost=148.035\n",
            "call reset()\n",
            "lr-batch-epoch: 0.1 25 75\n",
            "[]\n",
            "[7000]Accuracy-Highest: 0.00000\n",
            "INFO:root:Epoch[75] Batch [0-64]\tSpeed: 80.35 samples/sec\tacc=0.949038\n",
            "INFO:root:Epoch[75] Train-acc=0.943968\n",
            "INFO:root:Epoch[75] Time cost=147.927\n",
            "call reset()\n",
            "INFO:root:Epoch[76] Batch [0-64]\tSpeed: 80.27 samples/sec\tacc=0.948918\n",
            "INFO:root:Epoch[76] Train-acc=0.943716\n",
            "INFO:root:Epoch[76] Time cost=148.195\n",
            "call reset()\n",
            "INFO:root:Epoch[77] Batch [0-64]\tSpeed: 80.26 samples/sec\tacc=0.955409\n",
            "INFO:root:Epoch[77] Train-acc=0.951781\n",
            "INFO:root:Epoch[77] Time cost=148.200\n",
            "call reset()\n",
            "INFO:root:Epoch[78] Batch [0-64]\tSpeed: 80.25 samples/sec\tacc=0.959736\n",
            "INFO:root:Epoch[78] Train-acc=0.955309\n",
            "INFO:root:Epoch[78] Time cost=148.196\n",
            "call reset()\n",
            "INFO:root:Epoch[79] Batch [0-64]\tSpeed: 80.38 samples/sec\tacc=0.959495\n",
            "INFO:root:Epoch[79] Train-acc=0.956905\n",
            "INFO:root:Epoch[79] Time cost=148.058\n",
            "call reset()\n",
            "INFO:root:Epoch[80] Batch [0-64]\tSpeed: 80.34 samples/sec\tacc=0.960577\n",
            "INFO:root:Epoch[80] Train-acc=0.958837\n",
            "INFO:root:Epoch[80] Time cost=148.015\n",
            "call reset()\n",
            "INFO:root:Epoch[81] Batch [0-64]\tSpeed: 80.34 samples/sec\tacc=0.965144\n",
            "INFO:root:Epoch[81] Train-acc=0.960853\n",
            "INFO:root:Epoch[81] Time cost=147.961\n",
            "call reset()\n",
            "INFO:root:Epoch[82] Batch [0-64]\tSpeed: 80.36 samples/sec\tacc=0.962260\n",
            "INFO:root:Epoch[82] Train-acc=0.960433\n",
            "INFO:root:Epoch[82] Time cost=147.982\n",
            "call reset()\n",
            "INFO:root:Epoch[83] Batch [0-64]\tSpeed: 80.36 samples/sec\tacc=0.963341\n",
            "INFO:root:Epoch[83] Train-acc=0.959257\n",
            "INFO:root:Epoch[83] Time cost=147.928\n",
            "call reset()\n",
            "INFO:root:Epoch[84] Batch [0-64]\tSpeed: 80.21 samples/sec\tacc=0.961418\n",
            "INFO:root:Epoch[84] Train-acc=0.955645\n",
            "INFO:root:Epoch[84] Time cost=148.213\n",
            "call reset()\n",
            "INFO:root:Epoch[85] Batch [0-64]\tSpeed: 80.24 samples/sec\tacc=0.956490\n",
            "INFO:root:Epoch[85] Train-acc=0.951949\n",
            "INFO:root:Epoch[85] Time cost=148.100\n",
            "call reset()\n",
            "lr-batch-epoch: 0.1 2 86\n",
            "[]\n",
            "[8000]Accuracy-Highest: 0.00000\n",
            "INFO:root:Epoch[86] Batch [0-64]\tSpeed: 80.28 samples/sec\tacc=0.955889\n",
            "INFO:root:Epoch[86] Train-acc=0.948253\n",
            "INFO:root:Epoch[86] Time cost=148.054\n",
            "call reset()\n",
            "INFO:root:Epoch[87] Batch [0-64]\tSpeed: 80.30 samples/sec\tacc=0.956971\n",
            "INFO:root:Epoch[87] Train-acc=0.953377\n",
            "INFO:root:Epoch[87] Time cost=147.967\n",
            "call reset()\n",
            "INFO:root:Epoch[88] Batch [0-64]\tSpeed: 80.33 samples/sec\tacc=0.956010\n",
            "INFO:root:Epoch[88] Train-acc=0.953125\n",
            "INFO:root:Epoch[88] Time cost=148.068\n",
            "call reset()\n",
            "INFO:root:Epoch[89] Batch [0-64]\tSpeed: 80.26 samples/sec\tacc=0.956731\n",
            "INFO:root:Epoch[89] Train-acc=0.952621\n",
            "INFO:root:Epoch[89] Time cost=148.148\n",
            "call reset()\n",
            "INFO:root:Epoch[90] Batch [0-64]\tSpeed: 80.23 samples/sec\tacc=0.958293\n",
            "INFO:root:Epoch[90] Train-acc=0.953209\n",
            "INFO:root:Epoch[90] Time cost=148.259\n",
            "call reset()\n",
            "INFO:root:Epoch[91] Batch [0-64]\tSpeed: 80.34 samples/sec\tacc=0.956971\n",
            "INFO:root:Epoch[91] Train-acc=0.952957\n",
            "INFO:root:Epoch[91] Time cost=148.094\n",
            "call reset()\n",
            "INFO:root:Epoch[92] Batch [0-64]\tSpeed: 80.21 samples/sec\tacc=0.952043\n",
            "INFO:root:Epoch[92] Train-acc=0.949513\n",
            "INFO:root:Epoch[92] Time cost=148.349\n",
            "call reset()\n",
            "INFO:root:Epoch[93] Batch [0-64]\tSpeed: 80.39 samples/sec\tacc=0.959736\n",
            "INFO:root:Epoch[93] Train-acc=0.955561\n",
            "INFO:root:Epoch[93] Time cost=147.984\n",
            "call reset()\n",
            "INFO:root:Epoch[94] Batch [0-64]\tSpeed: 80.29 samples/sec\tacc=0.956971\n",
            "INFO:root:Epoch[94] Train-acc=0.955813\n",
            "INFO:root:Epoch[94] Time cost=148.132\n",
            "call reset()\n",
            "INFO:root:Epoch[95] Batch [0-64]\tSpeed: 80.19 samples/sec\tacc=0.960938\n",
            "INFO:root:Epoch[95] Train-acc=0.959593\n",
            "INFO:root:Epoch[95] Time cost=148.177\n",
            "call reset()\n",
            "INFO:root:Epoch[96] Batch [0-64]\tSpeed: 80.24 samples/sec\tacc=0.967187\n",
            "lr-batch-epoch: 0.1 72 96\n",
            "[]\n",
            "[9000]Accuracy-Highest: 0.00000\n",
            "INFO:root:Epoch[96] Train-acc=0.964718\n",
            "INFO:root:Epoch[96] Time cost=148.045\n",
            "call reset()\n",
            "INFO:root:Epoch[97] Batch [0-64]\tSpeed: 80.35 samples/sec\tacc=0.966947\n",
            "INFO:root:Epoch[97] Train-acc=0.962282\n",
            "INFO:root:Epoch[97] Time cost=147.928\n",
            "call reset()\n",
            "INFO:root:Epoch[98] Batch [0-64]\tSpeed: 80.27 samples/sec\tacc=0.964183\n",
            "INFO:root:Epoch[98] Train-acc=0.959509\n",
            "INFO:root:Epoch[98] Time cost=148.080\n",
            "call reset()\n",
            "INFO:root:Epoch[99] Batch [0-64]\tSpeed: 80.23 samples/sec\tacc=0.960096\n",
            "INFO:root:Epoch[99] Train-acc=0.956149\n",
            "INFO:root:Epoch[99] Time cost=148.309\n",
            "call reset()\n",
            "INFO:root:Epoch[100] Batch [0-64]\tSpeed: 80.32 samples/sec\tacc=0.956851\n",
            "INFO:root:Epoch[100] Train-acc=0.952369\n",
            "INFO:root:Epoch[100] Time cost=148.083\n",
            "call reset()\n",
            "INFO:root:Epoch[101] Batch [0-64]\tSpeed: 80.24 samples/sec\tacc=0.959976\n",
            "INFO:root:Epoch[101] Train-acc=0.956485\n",
            "INFO:root:Epoch[101] Time cost=148.230\n",
            "call reset()\n",
            "INFO:root:Epoch[102] Batch [0-64]\tSpeed: 80.04 samples/sec\tacc=0.957933\n",
            "INFO:root:Epoch[102] Train-acc=0.952621\n",
            "INFO:root:Epoch[102] Time cost=148.384\n",
            "call reset()\n",
            "INFO:root:Epoch[103] Batch [0-64]\tSpeed: 80.39 samples/sec\tacc=0.958534\n",
            "INFO:root:Epoch[103] Train-acc=0.953965\n",
            "INFO:root:Epoch[103] Time cost=148.011\n",
            "call reset()\n",
            "INFO:root:Epoch[104] Batch [0-64]\tSpeed: 80.03 samples/sec\tacc=0.962620\n",
            "INFO:root:Epoch[104] Train-acc=0.956233\n",
            "INFO:root:Epoch[104] Time cost=148.532\n",
            "call reset()\n",
            "INFO:root:Epoch[105] Batch [0-64]\tSpeed: 80.20 samples/sec\tacc=0.961899\n",
            "INFO:root:Epoch[105] Train-acc=0.957493\n",
            "INFO:root:Epoch[105] Time cost=148.192\n",
            "call reset()\n",
            "INFO:root:Epoch[106] Batch [0-64]\tSpeed: 80.34 samples/sec\tacc=0.960096\n",
            "INFO:root:Epoch[106] Train-acc=0.954637\n",
            "INFO:root:Epoch[106] Time cost=147.985\n",
            "call reset()\n",
            "lr-batch-epoch: 0.1 49 107\n",
            "[]\n",
            "[10000]Accuracy-Highest: 0.00000\n",
            "INFO:root:Epoch[107] Batch [0-64]\tSpeed: 80.21 samples/sec\tacc=0.960216\n",
            "INFO:root:Epoch[107] Train-acc=0.955981\n",
            "INFO:root:Epoch[107] Time cost=148.108\n",
            "call reset()\n",
            "INFO:root:Epoch[108] Batch [0-64]\tSpeed: 80.25 samples/sec\tacc=0.960337\n",
            "INFO:root:Epoch[108] Train-acc=0.956569\n",
            "INFO:root:Epoch[108] Time cost=148.355\n",
            "call reset()\n",
            "INFO:root:Epoch[109] Batch [0-64]\tSpeed: 80.25 samples/sec\tacc=0.960337\n",
            "INFO:root:Epoch[109] Train-acc=0.955393\n",
            "INFO:root:Epoch[109] Time cost=148.130\n",
            "call reset()\n",
            "INFO:root:Epoch[110] Batch [0-64]\tSpeed: 80.37 samples/sec\tacc=0.960216\n",
            "INFO:root:Epoch[110] Train-acc=0.955477\n",
            "INFO:root:Epoch[110] Time cost=148.001\n",
            "call reset()\n",
            "INFO:root:Epoch[111] Batch [0-64]\tSpeed: 80.35 samples/sec\tacc=0.960697\n",
            "INFO:root:Epoch[111] Train-acc=0.957157\n",
            "INFO:root:Epoch[111] Time cost=148.076\n",
            "call reset()\n",
            "INFO:root:Epoch[112] Batch [0-64]\tSpeed: 80.32 samples/sec\tacc=0.961418\n",
            "INFO:root:Epoch[112] Train-acc=0.959929\n",
            "INFO:root:Epoch[112] Time cost=147.978\n",
            "call reset()\n",
            "INFO:root:Epoch[113] Batch [0-64]\tSpeed: 80.38 samples/sec\tacc=0.967548\n",
            "INFO:root:Epoch[113] Train-acc=0.963542\n",
            "INFO:root:Epoch[113] Time cost=147.901\n",
            "call reset()\n",
            "INFO:root:Epoch[114] Batch [0-64]\tSpeed: 80.39 samples/sec\tacc=0.967308\n",
            "INFO:root:Epoch[114] Train-acc=0.962618\n",
            "INFO:root:Epoch[114] Time cost=147.945\n",
            "call reset()\n",
            "INFO:root:Epoch[115] Batch [0-64]\tSpeed: 80.22 samples/sec\tacc=0.968269\n",
            "INFO:root:Epoch[115] Train-acc=0.964466\n",
            "INFO:root:Epoch[115] Time cost=148.121\n",
            "call reset()\n",
            "INFO:root:Epoch[116] Batch [0-64]\tSpeed: 80.27 samples/sec\tacc=0.967308\n",
            "INFO:root:Epoch[116] Train-acc=0.963038\n",
            "INFO:root:Epoch[116] Time cost=148.091\n",
            "call reset()\n",
            "INFO:root:Epoch[117] Batch [0-64]\tSpeed: 80.35 samples/sec\tacc=0.968029\n",
            "INFO:root:Epoch[117] Train-acc=0.962786\n",
            "INFO:root:Epoch[117] Time cost=147.956\n",
            "call reset()\n",
            "lr-batch-epoch: 0.1 26 118\n",
            "[]\n",
            "[11000]Accuracy-Highest: 0.00000\n",
            "INFO:root:Epoch[118] Batch [0-64]\tSpeed: 80.28 samples/sec\tacc=0.959736\n",
            "INFO:root:Epoch[118] Train-acc=0.952453\n",
            "INFO:root:Epoch[118] Time cost=148.056\n",
            "call reset()\n",
            "INFO:root:Epoch[119] Batch [0-64]\tSpeed: 80.21 samples/sec\tacc=0.961058\n",
            "INFO:root:Epoch[119] Train-acc=0.953209\n",
            "INFO:root:Epoch[119] Time cost=148.197\n",
            "call reset()\n",
            "INFO:root:Epoch[120] Batch [0-64]\tSpeed: 80.30 samples/sec\tacc=0.953005\n",
            "INFO:root:Epoch[120] Train-acc=0.948085\n",
            "INFO:root:Epoch[120] Time cost=148.174\n",
            "call reset()\n",
            "INFO:root:Epoch[121] Batch [0-64]\tSpeed: 80.19 samples/sec\tacc=0.951803\n",
            "INFO:root:Epoch[121] Train-acc=0.947917\n",
            "INFO:root:Epoch[121] Time cost=148.096\n",
            "call reset()\n",
            "INFO:root:Epoch[122] Batch [0-64]\tSpeed: 80.40 samples/sec\tacc=0.958534\n",
            "INFO:root:Epoch[122] Train-acc=0.953545\n",
            "INFO:root:Epoch[122] Time cost=147.996\n",
            "call reset()\n",
            "INFO:root:Epoch[123] Batch [0-64]\tSpeed: 80.15 samples/sec\tacc=0.957933\n",
            "INFO:root:Epoch[123] Train-acc=0.957073\n",
            "INFO:root:Epoch[123] Time cost=148.271\n",
            "call reset()\n",
            "INFO:root:Epoch[124] Batch [0-64]\tSpeed: 80.23 samples/sec\tacc=0.963822\n",
            "INFO:root:Epoch[124] Train-acc=0.961526\n",
            "INFO:root:Epoch[124] Time cost=148.210\n",
            "call reset()\n",
            "INFO:root:Epoch[125] Batch [0-64]\tSpeed: 80.36 samples/sec\tacc=0.970433\n",
            "INFO:root:Epoch[125] Train-acc=0.966650\n",
            "INFO:root:Epoch[125] Time cost=147.974\n",
            "call reset()\n",
            "INFO:root:Epoch[126] Batch [0-64]\tSpeed: 80.35 samples/sec\tacc=0.969591\n",
            "INFO:root:Epoch[126] Train-acc=0.966062\n",
            "INFO:root:Epoch[126] Time cost=147.897\n",
            "call reset()\n",
            "INFO:root:Epoch[127] Batch [0-64]\tSpeed: 80.16 samples/sec\tacc=0.970192\n",
            "INFO:root:Epoch[127] Train-acc=0.965978\n",
            "INFO:root:Epoch[127] Time cost=148.256\n",
            "call reset()\n",
            "INFO:root:Epoch[128] Batch [0-64]\tSpeed: 80.30 samples/sec\tacc=0.967067\n",
            "INFO:root:Epoch[128] Train-acc=0.963206\n",
            "INFO:root:Epoch[128] Time cost=148.065\n",
            "call reset()\n",
            "lr-batch-epoch: 0.1 3 129\n",
            "[]\n",
            "[12000]Accuracy-Highest: 0.00000\n",
            "INFO:root:Epoch[129] Batch [0-64]\tSpeed: 80.33 samples/sec\tacc=0.968510\n",
            "INFO:root:Epoch[129] Train-acc=0.963458\n",
            "INFO:root:Epoch[129] Time cost=148.072\n",
            "call reset()\n",
            "INFO:root:Epoch[130] Batch [0-64]\tSpeed: 80.28 samples/sec\tacc=0.969111\n",
            "INFO:root:Epoch[130] Train-acc=0.965474\n",
            "INFO:root:Epoch[130] Time cost=148.157\n",
            "call reset()\n",
            "INFO:root:Epoch[131] Batch [0-64]\tSpeed: 80.26 samples/sec\tacc=0.964063\n",
            "INFO:root:Epoch[131] Train-acc=0.961106\n",
            "INFO:root:Epoch[131] Time cost=148.177\n",
            "call reset()\n",
            "INFO:root:Epoch[132] Batch [0-64]\tSpeed: 80.36 samples/sec\tacc=0.960938\n",
            "INFO:root:Epoch[132] Train-acc=0.954805\n",
            "INFO:root:Epoch[132] Time cost=147.982\n",
            "call reset()\n",
            "INFO:root:Epoch[133] Batch [0-64]\tSpeed: 80.21 samples/sec\tacc=0.964063\n",
            "INFO:root:Epoch[133] Train-acc=0.957997\n",
            "INFO:root:Epoch[133] Time cost=148.170\n",
            "call reset()\n",
            "INFO:root:Epoch[134] Batch [0-64]\tSpeed: 80.31 samples/sec\tacc=0.956971\n",
            "INFO:root:Epoch[134] Train-acc=0.954553\n",
            "INFO:root:Epoch[134] Time cost=147.992\n",
            "call reset()\n",
            "INFO:root:Epoch[135] Batch [0-64]\tSpeed: 80.32 samples/sec\tacc=0.962260\n",
            "INFO:root:Epoch[135] Train-acc=0.957409\n",
            "INFO:root:Epoch[135] Time cost=148.123\n",
            "call reset()\n",
            "INFO:root:Epoch[136] Batch [0-64]\tSpeed: 80.30 samples/sec\tacc=0.960216\n",
            "INFO:root:Epoch[136] Train-acc=0.955561\n",
            "INFO:root:Epoch[136] Time cost=148.026\n",
            "call reset()\n",
            "INFO:root:Epoch[137] Batch [0-64]\tSpeed: 80.25 samples/sec\tacc=0.964784\n",
            "INFO:root:Epoch[137] Train-acc=0.958501\n",
            "INFO:root:Epoch[137] Time cost=148.085\n",
            "call reset()\n",
            "INFO:root:Epoch[138] Batch [0-64]\tSpeed: 80.33 samples/sec\tacc=0.965264\n",
            "INFO:root:Epoch[138] Train-acc=0.958837\n",
            "INFO:root:Epoch[138] Time cost=148.012\n",
            "call reset()\n",
            "INFO:root:Epoch[139] Batch [0-64]\tSpeed: 80.32 samples/sec\tacc=0.963341\n",
            "lr-batch-epoch: 0.1 73 139\n",
            "[]\n",
            "[13000]Accuracy-Highest: 0.00000\n",
            "INFO:root:Epoch[139] Train-acc=0.959341\n",
            "INFO:root:Epoch[139] Time cost=148.069\n",
            "call reset()\n",
            "INFO:root:Epoch[140] Batch [0-64]\tSpeed: 80.39 samples/sec\tacc=0.961779\n",
            "INFO:root:Epoch[140] Train-acc=0.957325\n",
            "INFO:root:Epoch[140] Time cost=148.083\n",
            "call reset()\n",
            "INFO:root:Epoch[141] Batch [0-64]\tSpeed: 80.30 samples/sec\tacc=0.965865\n",
            "INFO:root:Epoch[141] Train-acc=0.963962\n",
            "INFO:root:Epoch[141] Time cost=148.073\n",
            "call reset()\n",
            "INFO:root:Epoch[142] Batch [0-64]\tSpeed: 80.24 samples/sec\tacc=0.967788\n",
            "INFO:root:Epoch[142] Train-acc=0.965978\n",
            "INFO:root:Epoch[142] Time cost=148.238\n",
            "call reset()\n",
            "INFO:root:Epoch[143] Batch [0-64]\tSpeed: 80.33 samples/sec\tacc=0.970793\n",
            "INFO:root:Epoch[143] Train-acc=0.967154\n",
            "INFO:root:Epoch[143] Time cost=148.014\n",
            "call reset()\n",
            "INFO:root:Epoch[144] Batch [0-64]\tSpeed: 80.14 samples/sec\tacc=0.972476\n",
            "INFO:root:Epoch[144] Train-acc=0.970010\n",
            "INFO:root:Epoch[144] Time cost=148.259\n",
            "call reset()\n",
            "INFO:root:Epoch[145] Batch [0-64]\tSpeed: 80.37 samples/sec\tacc=0.971995\n",
            "INFO:root:Epoch[145] Train-acc=0.967490\n",
            "INFO:root:Epoch[145] Time cost=147.931\n",
            "call reset()\n",
            "INFO:root:Epoch[146] Batch [0-64]\tSpeed: 80.39 samples/sec\tacc=0.970793\n",
            "INFO:root:Epoch[146] Train-acc=0.965978\n",
            "INFO:root:Epoch[146] Time cost=147.980\n",
            "call reset()\n",
            "INFO:root:Epoch[147] Batch [0-64]\tSpeed: 80.19 samples/sec\tacc=0.964784\n",
            "INFO:root:Epoch[147] Train-acc=0.957073\n",
            "INFO:root:Epoch[147] Time cost=148.087\n",
            "call reset()\n",
            "INFO:root:Epoch[148] Batch [0-64]\tSpeed: 80.29 samples/sec\tacc=0.955769\n",
            "INFO:root:Epoch[148] Train-acc=0.950353\n",
            "INFO:root:Epoch[148] Time cost=148.063\n",
            "call reset()\n",
            "INFO:root:Epoch[149] Batch [0-64]\tSpeed: 80.35 samples/sec\tacc=0.953726\n",
            "INFO:root:Epoch[149] Train-acc=0.945817\n",
            "INFO:root:Epoch[149] Time cost=147.901\n",
            "call reset()\n",
            "lr-batch-epoch: 0.1 50 150\n",
            "[]\n",
            "[14000]Accuracy-Highest: 0.00000\n",
            "INFO:root:Epoch[150] Batch [0-64]\tSpeed: 80.40 samples/sec\tacc=0.956250\n",
            "INFO:root:Epoch[150] Train-acc=0.951865\n",
            "INFO:root:Epoch[150] Time cost=148.004\n",
            "call reset()\n",
            "INFO:root:Epoch[151] Batch [0-64]\tSpeed: 80.37 samples/sec\tacc=0.958053\n",
            "INFO:root:Epoch[151] Train-acc=0.951865\n",
            "INFO:root:Epoch[151] Time cost=147.898\n",
            "call reset()\n",
            "INFO:root:Epoch[152] Batch [0-64]\tSpeed: 80.37 samples/sec\tacc=0.961178\n",
            "INFO:root:Epoch[152] Train-acc=0.958585\n",
            "INFO:root:Epoch[152] Time cost=147.863\n",
            "call reset()\n",
            "INFO:root:Epoch[153] Batch [0-64]\tSpeed: 80.38 samples/sec\tacc=0.962380\n",
            "INFO:root:Epoch[153] Train-acc=0.961526\n",
            "INFO:root:Epoch[153] Time cost=147.903\n",
            "call reset()\n",
            "INFO:root:Epoch[154] Batch [0-64]\tSpeed: 80.38 samples/sec\tacc=0.969832\n",
            "INFO:root:Epoch[154] Train-acc=0.967574\n",
            "INFO:root:Epoch[154] Time cost=147.911\n",
            "call reset()\n",
            "INFO:root:Epoch[155] Batch [0-64]\tSpeed: 80.34 samples/sec\tacc=0.971635\n",
            "INFO:root:Epoch[155] Train-acc=0.967154\n",
            "INFO:root:Epoch[155] Time cost=148.009\n",
            "call reset()\n",
            "INFO:root:Epoch[156] Batch [0-64]\tSpeed: 80.36 samples/sec\tacc=0.973197\n",
            "INFO:root:Epoch[156] Train-acc=0.969506\n",
            "INFO:root:Epoch[156] Time cost=148.018\n",
            "call reset()\n",
            "INFO:root:Epoch[157] Batch [0-64]\tSpeed: 80.42 samples/sec\tacc=0.973678\n",
            "INFO:root:Epoch[157] Train-acc=0.971186\n",
            "INFO:root:Epoch[157] Time cost=147.953\n",
            "call reset()\n",
            "INFO:root:Epoch[158] Batch [0-64]\tSpeed: 80.35 samples/sec\tacc=0.974639\n",
            "INFO:root:Epoch[158] Train-acc=0.969926\n",
            "INFO:root:Epoch[158] Time cost=147.923\n",
            "call reset()\n",
            "INFO:root:Epoch[159] Batch [0-64]\tSpeed: 80.38 samples/sec\tacc=0.972596\n",
            "INFO:root:Epoch[159] Train-acc=0.967574\n",
            "INFO:root:Epoch[159] Time cost=147.988\n",
            "call reset()\n",
            "INFO:root:Epoch[160] Batch [0-64]\tSpeed: 80.35 samples/sec\tacc=0.957091\n",
            "INFO:root:Epoch[160] Train-acc=0.955309\n",
            "INFO:root:Epoch[160] Time cost=148.034\n",
            "call reset()\n",
            "lr-batch-epoch: 0.1 27 161\n",
            "[]\n",
            "[15000]Accuracy-Highest: 0.00000\n",
            "INFO:root:Epoch[161] Batch [0-64]\tSpeed: 80.35 samples/sec\tacc=0.957812\n",
            "INFO:root:Epoch[161] Train-acc=0.950437\n",
            "INFO:root:Epoch[161] Time cost=147.876\n",
            "call reset()\n",
            "INFO:root:Epoch[162] Batch [0-64]\tSpeed: 80.22 samples/sec\tacc=0.954087\n",
            "INFO:root:Epoch[162] Train-acc=0.946573\n",
            "INFO:root:Epoch[162] Time cost=148.082\n",
            "call reset()\n",
            "INFO:root:Epoch[163] Batch [0-64]\tSpeed: 80.32 samples/sec\tacc=0.943630\n",
            "INFO:root:Epoch[163] Train-acc=0.938088\n",
            "INFO:root:Epoch[163] Time cost=148.112\n",
            "call reset()\n",
            "INFO:root:Epoch[164] Batch [0-64]\tSpeed: 80.37 samples/sec\tacc=0.952885\n",
            "INFO:root:Epoch[164] Train-acc=0.949513\n",
            "INFO:root:Epoch[164] Time cost=147.874\n",
            "call reset()\n",
            "INFO:root:Epoch[165] Batch [0-64]\tSpeed: 80.20 samples/sec\tacc=0.961779\n",
            "INFO:root:Epoch[165] Train-acc=0.956737\n",
            "INFO:root:Epoch[165] Time cost=148.082\n",
            "call reset()\n",
            "INFO:root:Epoch[166] Batch [0-64]\tSpeed: 80.17 samples/sec\tacc=0.970313\n",
            "INFO:root:Epoch[166] Train-acc=0.965306\n",
            "INFO:root:Epoch[166] Time cost=148.287\n",
            "call reset()\n",
            "INFO:root:Epoch[167] Batch [0-64]\tSpeed: 80.37 samples/sec\tacc=0.973558\n",
            "INFO:root:Epoch[167] Train-acc=0.971774\n",
            "INFO:root:Epoch[167] Time cost=147.987\n",
            "call reset()\n",
            "INFO:root:Epoch[168] Batch [0-64]\tSpeed: 80.36 samples/sec\tacc=0.977043\n",
            "INFO:root:Epoch[168] Train-acc=0.975638\n",
            "INFO:root:Epoch[168] Time cost=147.971\n",
            "call reset()\n",
            "INFO:root:Epoch[169] Batch [0-64]\tSpeed: 80.33 samples/sec\tacc=0.977885\n",
            "INFO:root:Epoch[169] Train-acc=0.976562\n",
            "INFO:root:Epoch[169] Time cost=148.100\n",
            "call reset()\n",
            "INFO:root:Epoch[170] Batch [0-64]\tSpeed: 80.32 samples/sec\tacc=0.977644\n",
            "INFO:root:Epoch[170] Train-acc=0.976310\n",
            "INFO:root:Epoch[170] Time cost=147.934\n",
            "call reset()\n",
            "INFO:root:Epoch[171] Batch [0-64]\tSpeed: 80.36 samples/sec\tacc=0.978005\n",
            "INFO:root:Epoch[171] Train-acc=0.974966\n",
            "INFO:root:Epoch[171] Time cost=148.051\n",
            "call reset()\n",
            "lr-batch-epoch: 0.1 4 172\n",
            "[]\n",
            "[16000]Accuracy-Highest: 0.00000\n",
            "INFO:root:Epoch[172] Batch [0-64]\tSpeed: 80.33 samples/sec\tacc=0.971514\n",
            "INFO:root:Epoch[172] Train-acc=0.968750\n",
            "INFO:root:Epoch[172] Time cost=148.029\n",
            "call reset()\n",
            "INFO:root:Epoch[173] Batch [0-64]\tSpeed: 80.32 samples/sec\tacc=0.963942\n",
            "INFO:root:Epoch[173] Train-acc=0.958333\n",
            "INFO:root:Epoch[173] Time cost=148.021\n",
            "call reset()\n",
            "INFO:root:Epoch[174] Batch [0-64]\tSpeed: 80.37 samples/sec\tacc=0.950361\n",
            "INFO:root:Epoch[174] Train-acc=0.942120\n",
            "INFO:root:Epoch[174] Time cost=147.920\n",
            "call reset()\n",
            "INFO:root:Epoch[175] Batch [0-64]\tSpeed: 80.39 samples/sec\tacc=0.943630\n",
            "INFO:root:Epoch[175] Train-acc=0.936744\n",
            "INFO:root:Epoch[175] Time cost=147.962\n",
            "call reset()\n",
            "INFO:root:Epoch[176] Batch [0-64]\tSpeed: 80.36 samples/sec\tacc=0.946635\n",
            "INFO:root:Epoch[176] Train-acc=0.941112\n",
            "INFO:root:Epoch[176] Time cost=148.050\n",
            "call reset()\n",
            "INFO:root:Epoch[177] Batch [0-64]\tSpeed: 80.19 samples/sec\tacc=0.951202\n",
            "INFO:root:Epoch[177] Train-acc=0.946741\n",
            "INFO:root:Epoch[177] Time cost=148.203\n",
            "call reset()\n",
            "INFO:root:Epoch[178] Batch [0-64]\tSpeed: 80.33 samples/sec\tacc=0.961538\n",
            "INFO:root:Epoch[178] Train-acc=0.958669\n",
            "INFO:root:Epoch[178] Time cost=147.973\n",
            "call reset()\n",
            "INFO:root:Epoch[179] Batch [0-64]\tSpeed: 80.35 samples/sec\tacc=0.971755\n",
            "INFO:root:Epoch[179] Train-acc=0.969002\n",
            "INFO:root:Epoch[179] Time cost=148.012\n",
            "call reset()\n",
            "INFO:root:Epoch[180] Batch [0-64]\tSpeed: 80.25 samples/sec\tacc=0.976202\n",
            "INFO:root:Epoch[180] Train-acc=0.973286\n",
            "INFO:root:Epoch[180] Time cost=148.284\n",
            "call reset()\n",
            "INFO:root:Epoch[181] Batch [0-64]\tSpeed: 80.32 samples/sec\tacc=0.982091\n",
            "INFO:root:Epoch[181] Train-acc=0.977823\n",
            "INFO:root:Epoch[181] Time cost=147.973\n",
            "call reset()\n",
            "INFO:root:Epoch[182] Batch [0-64]\tSpeed: 80.28 samples/sec\tacc=0.978125\n",
            "lr-batch-epoch: 0.1 74 182\n",
            "[]\n",
            "[17000]Accuracy-Highest: 0.00000\n",
            "INFO:root:Epoch[182] Train-acc=0.974714\n",
            "INFO:root:Epoch[182] Time cost=147.956\n",
            "call reset()\n",
            "INFO:root:Epoch[183] Batch [0-64]\tSpeed: 80.41 samples/sec\tacc=0.976202\n",
            "INFO:root:Epoch[183] Train-acc=0.972446\n",
            "INFO:root:Epoch[183] Time cost=148.106\n",
            "call reset()\n",
            "INFO:root:Epoch[184] Batch [0-64]\tSpeed: 80.40 samples/sec\tacc=0.977524\n",
            "INFO:root:Epoch[184] Train-acc=0.972110\n",
            "INFO:root:Epoch[184] Time cost=147.832\n",
            "call reset()\n",
            "INFO:root:Epoch[185] Batch [0-64]\tSpeed: 80.25 samples/sec\tacc=0.973798\n",
            "INFO:root:Epoch[185] Train-acc=0.969254\n",
            "INFO:root:Epoch[185] Time cost=148.142\n",
            "call reset()\n",
            "INFO:root:Epoch[186] Batch [0-64]\tSpeed: 80.37 samples/sec\tacc=0.962380\n",
            "INFO:root:Epoch[186] Train-acc=0.958081\n",
            "INFO:root:Epoch[186] Time cost=148.074\n",
            "call reset()\n",
            "INFO:root:Epoch[187] Batch [0-64]\tSpeed: 80.31 samples/sec\tacc=0.951923\n",
            "INFO:root:Epoch[187] Train-acc=0.946405\n",
            "INFO:root:Epoch[187] Time cost=147.968\n",
            "call reset()\n",
            "INFO:root:Epoch[188] Batch [0-64]\tSpeed: 80.29 samples/sec\tacc=0.943510\n",
            "INFO:root:Epoch[188] Train-acc=0.940776\n",
            "INFO:root:Epoch[188] Time cost=148.050\n",
            "call reset()\n",
            "INFO:root:Epoch[189] Batch [0-64]\tSpeed: 80.30 samples/sec\tacc=0.950841\n",
            "INFO:root:Epoch[189] Train-acc=0.947413\n",
            "INFO:root:Epoch[189] Time cost=148.081\n",
            "call reset()\n",
            "INFO:root:Epoch[190] Batch [0-64]\tSpeed: 80.31 samples/sec\tacc=0.958654\n",
            "INFO:root:Epoch[190] Train-acc=0.955225\n",
            "INFO:root:Epoch[190] Time cost=148.052\n",
            "call reset()\n",
            "INFO:root:Epoch[191] Batch [0-64]\tSpeed: 80.40 samples/sec\tacc=0.964183\n",
            "INFO:root:Epoch[191] Train-acc=0.961694\n",
            "INFO:root:Epoch[191] Time cost=147.935\n",
            "call reset()\n",
            "INFO:root:Epoch[192] Batch [0-64]\tSpeed: 80.33 samples/sec\tacc=0.971274\n",
            "INFO:root:Epoch[192] Train-acc=0.968414\n",
            "INFO:root:Epoch[192] Time cost=148.087\n",
            "call reset()\n",
            "lr-batch-epoch: 0.1 51 193\n",
            "[]\n",
            "[18000]Accuracy-Highest: 0.00000\n",
            "INFO:root:Epoch[193] Batch [0-64]\tSpeed: 80.30 samples/sec\tacc=0.973077\n",
            "INFO:root:Epoch[193] Train-acc=0.969926\n",
            "INFO:root:Epoch[193] Time cost=147.951\n",
            "call reset()\n",
            "INFO:root:Epoch[194] Batch [0-64]\tSpeed: 80.36 samples/sec\tacc=0.974519\n",
            "INFO:root:Epoch[194] Train-acc=0.972950\n",
            "INFO:root:Epoch[194] Time cost=147.896\n",
            "call reset()\n",
            "INFO:root:Epoch[195] Batch [0-64]\tSpeed: 80.37 samples/sec\tacc=0.977404\n",
            "INFO:root:Epoch[195] Train-acc=0.975890\n",
            "INFO:root:Epoch[195] Time cost=147.948\n",
            "call reset()\n",
            "INFO:root:Epoch[196] Batch [0-64]\tSpeed: 80.42 samples/sec\tacc=0.979688\n",
            "INFO:root:Epoch[196] Train-acc=0.975050\n",
            "INFO:root:Epoch[196] Time cost=147.854\n",
            "call reset()\n",
            "INFO:root:Epoch[197] Batch [0-64]\tSpeed: 80.35 samples/sec\tacc=0.972236\n",
            "INFO:root:Epoch[197] Train-acc=0.967238\n",
            "INFO:root:Epoch[197] Time cost=147.914\n",
            "call reset()\n",
            "INFO:root:Epoch[198] Batch [0-64]\tSpeed: 80.36 samples/sec\tacc=0.964784\n",
            "INFO:root:Epoch[198] Train-acc=0.960769\n",
            "INFO:root:Epoch[198] Time cost=147.903\n",
            "call reset()\n",
            "INFO:root:Epoch[199] Batch [0-64]\tSpeed: 80.34 samples/sec\tacc=0.949038\n",
            "INFO:root:Epoch[199] Train-acc=0.944724\n",
            "INFO:root:Epoch[199] Time cost=148.054\n",
            "call reset()\n",
            "INFO:root:Epoch[200] Batch [0-64]\tSpeed: 80.23 samples/sec\tacc=0.951082\n",
            "INFO:root:Epoch[200] Train-acc=0.947413\n",
            "INFO:root:Epoch[200] Time cost=148.147\n",
            "call reset()\n",
            "INFO:root:Epoch[201] Batch [0-64]\tSpeed: 80.38 samples/sec\tacc=0.956731\n",
            "INFO:root:Epoch[201] Train-acc=0.954721\n",
            "INFO:root:Epoch[201] Time cost=147.995\n",
            "call reset()\n",
            "INFO:root:Epoch[202] Batch [0-64]\tSpeed: 80.28 samples/sec\tacc=0.963942\n",
            "INFO:root:Epoch[202] Train-acc=0.961190\n",
            "INFO:root:Epoch[202] Time cost=148.165\n",
            "call reset()\n",
            "INFO:root:Epoch[203] Batch [0-64]\tSpeed: 80.36 samples/sec\tacc=0.972476\n",
            "INFO:root:Epoch[203] Train-acc=0.970010\n",
            "INFO:root:Epoch[203] Time cost=147.936\n",
            "call reset()\n",
            "lr-batch-epoch: 0.1 28 204\n",
            "[]\n",
            "[19000]Accuracy-Highest: 0.00000\n",
            "INFO:root:Epoch[204] Batch [0-64]\tSpeed: 80.33 samples/sec\tacc=0.975240\n",
            "INFO:root:Epoch[204] Train-acc=0.972194\n",
            "INFO:root:Epoch[204] Time cost=147.862\n",
            "call reset()\n",
            "INFO:root:Epoch[205] Batch [0-64]\tSpeed: 80.28 samples/sec\tacc=0.974880\n",
            "INFO:root:Epoch[205] Train-acc=0.972194\n",
            "INFO:root:Epoch[205] Time cost=148.052\n",
            "call reset()\n",
            "INFO:root:Epoch[206] Batch [0-64]\tSpeed: 80.39 samples/sec\tacc=0.973317\n",
            "INFO:root:Epoch[206] Train-acc=0.967742\n",
            "INFO:root:Epoch[206] Time cost=147.984\n",
            "call reset()\n",
            "INFO:root:Epoch[207] Batch [0-64]\tSpeed: 80.29 samples/sec\tacc=0.964423\n",
            "INFO:root:Epoch[207] Train-acc=0.960013\n",
            "INFO:root:Epoch[207] Time cost=148.144\n",
            "call reset()\n",
            "INFO:root:Epoch[208] Batch [0-64]\tSpeed: 80.32 samples/sec\tacc=0.959255\n",
            "INFO:root:Epoch[208] Train-acc=0.954133\n",
            "INFO:root:Epoch[208] Time cost=148.061\n",
            "call reset()\n",
            "INFO:root:Epoch[209] Batch [0-64]\tSpeed: 80.32 samples/sec\tacc=0.956010\n",
            "INFO:root:Epoch[209] Train-acc=0.951445\n",
            "INFO:root:Epoch[209] Time cost=147.989\n",
            "call reset()\n",
            "INFO:root:Epoch[210] Batch [0-64]\tSpeed: 80.31 samples/sec\tacc=0.959375\n",
            "INFO:root:Epoch[210] Train-acc=0.956737\n",
            "INFO:root:Epoch[210] Time cost=147.929\n",
            "call reset()\n",
            "INFO:root:Epoch[211] Batch [0-64]\tSpeed: 80.34 samples/sec\tacc=0.957812\n",
            "INFO:root:Epoch[211] Train-acc=0.954805\n",
            "INFO:root:Epoch[211] Time cost=147.939\n",
            "call reset()\n",
            "INFO:root:Epoch[212] Batch [0-64]\tSpeed: 80.37 samples/sec\tacc=0.966226\n",
            "INFO:root:Epoch[212] Train-acc=0.963962\n",
            "INFO:root:Epoch[212] Time cost=148.048\n",
            "call reset()\n",
            "INFO:root:Epoch[213] Batch [0-64]\tSpeed: 80.34 samples/sec\tacc=0.973077\n",
            "INFO:root:Epoch[213] Train-acc=0.970178\n",
            "INFO:root:Epoch[213] Time cost=148.018\n",
            "call reset()\n",
            "INFO:root:Epoch[214] Batch [0-64]\tSpeed: 80.32 samples/sec\tacc=0.976683\n",
            "INFO:root:Epoch[214] Train-acc=0.975218\n",
            "INFO:root:Epoch[214] Time cost=147.941\n",
            "call reset()\n",
            "lr-batch-epoch: 0.1 5 215\n",
            "[]\n",
            "[20000]Accuracy-Highest: 0.00000\n",
            "INFO:root:Epoch[215] Batch [0-64]\tSpeed: 80.35 samples/sec\tacc=0.978365\n",
            "INFO:root:Epoch[215] Train-acc=0.975638\n",
            "INFO:root:Epoch[215] Time cost=147.988\n",
            "call reset()\n",
            "INFO:root:Epoch[216] Batch [0-64]\tSpeed: 80.36 samples/sec\tacc=0.979808\n",
            "INFO:root:Epoch[216] Train-acc=0.976478\n",
            "INFO:root:Epoch[216] Time cost=147.960\n",
            "call reset()\n",
            "INFO:root:Epoch[217] Batch [0-64]\tSpeed: 80.29 samples/sec\tacc=0.975601\n",
            "INFO:root:Epoch[217] Train-acc=0.974798\n",
            "INFO:root:Epoch[217] Time cost=148.094\n",
            "call reset()\n",
            "INFO:root:Epoch[218] Batch [0-64]\tSpeed: 80.36 samples/sec\tacc=0.977524\n",
            "INFO:root:Epoch[218] Train-acc=0.974798\n",
            "INFO:root:Epoch[218] Time cost=147.964\n",
            "call reset()\n",
            "INFO:root:Epoch[219] Batch [0-64]\tSpeed: 80.41 samples/sec\tacc=0.975120\n",
            "INFO:root:Epoch[219] Train-acc=0.972026\n",
            "INFO:root:Epoch[219] Time cost=147.956\n",
            "call reset()\n",
            "INFO:root:Epoch[220] Batch [0-64]\tSpeed: 80.38 samples/sec\tacc=0.967067\n",
            "INFO:root:Epoch[220] Train-acc=0.961022\n",
            "INFO:root:Epoch[220] Time cost=148.027\n",
            "call reset()\n",
            "INFO:root:Epoch[221] Batch [0-64]\tSpeed: 80.31 samples/sec\tacc=0.945433\n",
            "INFO:root:Epoch[221] Train-acc=0.937164\n",
            "INFO:root:Epoch[221] Time cost=148.024\n",
            "call reset()\n",
            "INFO:root:Epoch[222] Batch [0-64]\tSpeed: 80.23 samples/sec\tacc=0.934495\n",
            "INFO:root:Epoch[222] Train-acc=0.926327\n",
            "INFO:root:Epoch[222] Time cost=148.190\n",
            "call reset()\n",
            "INFO:root:Epoch[223] Batch [0-64]\tSpeed: 80.37 samples/sec\tacc=0.935817\n",
            "INFO:root:Epoch[223] Train-acc=0.932124\n",
            "INFO:root:Epoch[223] Time cost=148.025\n",
            "call reset()\n",
            "INFO:root:Epoch[224] Batch [0-64]\tSpeed: 80.41 samples/sec\tacc=0.952885\n",
            "INFO:root:Epoch[224] Train-acc=0.949933\n",
            "INFO:root:Epoch[224] Time cost=147.945\n",
            "call reset()\n",
            "INFO:root:Epoch[225] Batch [0-64]\tSpeed: 80.34 samples/sec\tacc=0.965024\n",
            "lr-batch-epoch: 0.1 75 225\n",
            "[]\n",
            "[21000]Accuracy-Highest: 0.00000\n",
            "INFO:root:Epoch[225] Train-acc=0.963122\n",
            "INFO:root:Epoch[225] Time cost=148.016\n",
            "call reset()\n",
            "INFO:root:Epoch[226] Batch [0-64]\tSpeed: 80.34 samples/sec\tacc=0.974880\n",
            "INFO:root:Epoch[226] Train-acc=0.973538\n",
            "INFO:root:Epoch[226] Time cost=147.904\n",
            "call reset()\n",
            "INFO:root:Epoch[227] Batch [0-64]\tSpeed: 80.36 samples/sec\tacc=0.981851\n",
            "INFO:root:Epoch[227] Train-acc=0.979083\n",
            "INFO:root:Epoch[227] Time cost=147.956\n",
            "call reset()\n",
            "INFO:root:Epoch[228] Batch [0-64]\tSpeed: 80.28 samples/sec\tacc=0.986058\n",
            "INFO:root:Epoch[228] Train-acc=0.985635\n",
            "INFO:root:Epoch[228] Time cost=148.105\n",
            "call reset()\n",
            "INFO:root:Epoch[229] Batch [0-64]\tSpeed: 80.37 samples/sec\tacc=0.988942\n",
            "INFO:root:Epoch[229] Train-acc=0.988491\n",
            "INFO:root:Epoch[229] Time cost=148.059\n",
            "call reset()\n",
            "INFO:root:Epoch[230] Batch [0-64]\tSpeed: 80.31 samples/sec\tacc=0.989423\n",
            "INFO:root:Epoch[230] Train-acc=0.988911\n",
            "INFO:root:Epoch[230] Time cost=148.039\n",
            "call reset()\n",
            "INFO:root:Epoch[231] Batch [0-64]\tSpeed: 80.32 samples/sec\tacc=0.987861\n",
            "INFO:root:Epoch[231] Train-acc=0.984375\n",
            "INFO:root:Epoch[231] Time cost=148.016\n",
            "call reset()\n",
            "INFO:root:Epoch[232] Batch [0-64]\tSpeed: 80.36 samples/sec\tacc=0.980649\n",
            "INFO:root:Epoch[232] Train-acc=0.976310\n",
            "INFO:root:Epoch[232] Time cost=147.987\n",
            "call reset()\n",
            "INFO:root:Epoch[233] Batch [0-64]\tSpeed: 80.33 samples/sec\tacc=0.955649\n",
            "INFO:root:Epoch[233] Train-acc=0.948757\n",
            "INFO:root:Epoch[233] Time cost=147.996\n",
            "call reset()\n",
            "INFO:root:Epoch[234] Batch [0-64]\tSpeed: 80.34 samples/sec\tacc=0.933654\n",
            "INFO:root:Epoch[234] Train-acc=0.923051\n",
            "INFO:root:Epoch[234] Time cost=148.071\n",
            "call reset()\n",
            "INFO:root:Epoch[235] Batch [0-64]\tSpeed: 80.37 samples/sec\tacc=0.924159\n",
            "INFO:root:Epoch[235] Train-acc=0.916415\n",
            "INFO:root:Epoch[235] Time cost=148.027\n",
            "call reset()\n",
            "lr-batch-epoch: 0.1 52 236\n",
            "[]\n",
            "[22000]Accuracy-Highest: 0.00000\n",
            "INFO:root:Epoch[236] Batch [0-64]\tSpeed: 80.24 samples/sec\tacc=0.935096\n",
            "Traceback (most recent call last):\n",
            "  File \"train_softmax_my.py\", line 561, in <module>\n",
            "    main()\n",
            "  File \"train_softmax_my.py\", line 558, in main\n",
            "    train_net(args)\n",
            "  File \"train_softmax_my.py\", line 551, in train_net\n",
            "    epoch_end_callback = epoch_cb )\n",
            "  File \"/usr/local/lib/python2.7/dist-packages/mxnet/module/base_module.py\", line 539, in fit\n",
            "    self.update_metric(eval_metric, data_batch.label)\n",
            "  File \"/usr/local/lib/python2.7/dist-packages/mxnet/module/module.py\", line 775, in update_metric\n",
            "    self._exec_group.update_metric(eval_metric, labels, pre_sliced)\n",
            "  File \"/usr/local/lib/python2.7/dist-packages/mxnet/module/executor_group.py\", line 639, in update_metric\n",
            "    eval_metric.update_dict(labels_, preds)\n",
            "  File \"/usr/local/lib/python2.7/dist-packages/mxnet/metric.py\", line 304, in update_dict\n",
            "    metric.update_dict(labels, preds)\n",
            "  File \"/usr/local/lib/python2.7/dist-packages/mxnet/metric.py\", line 132, in update_dict\n",
            "    self.update(label, pred)\n",
            "  File \"train_softmax_my.py\", line 76, in update\n",
            "    pred_label = pred_label.asnumpy().astype('int32').flatten()\n",
            "  File \"/usr/local/lib/python2.7/dist-packages/mxnet/ndarray/ndarray.py\", line 1980, in asnumpy\n",
            "    ctypes.c_size_t(data.size)))\n",
            "KeyboardInterrupt\n"
          ],
          "name": "stdout"
        }
      ]
    },
    {
      "cell_type": "code",
      "metadata": {
        "id": "nYj1gl5HVpda",
        "colab_type": "code",
        "colab": {}
      },
      "source": [
        "ls ../my_model/"
      ],
      "execution_count": 0,
      "outputs": []
    },
    {
      "cell_type": "code",
      "metadata": {
        "id": "VIO-64HRVxd6",
        "colab_type": "code",
        "outputId": "1cd3e3ab-48cc-4057-8d4a-40be161cafee",
        "colab": {
          "base_uri": "https://localhost:8080/",
          "height": 34
        }
      },
      "source": [
        "cd .."
      ],
      "execution_count": 0,
      "outputs": [
        {
          "output_type": "stream",
          "text": [
            "/content/iface/insightface_for_face_recognition-master\n"
          ],
          "name": "stdout"
        }
      ]
    },
    {
      "cell_type": "code",
      "metadata": {
        "id": "-C6kdi7DV0bZ",
        "colab_type": "code",
        "outputId": "1c81dd7c-961b-4e4b-93ef-ab1eea63c02e",
        "colab": {
          "base_uri": "https://localhost:8080/",
          "height": 170
        }
      },
      "source": [
        "!du -sh *"
      ],
      "execution_count": 0,
      "outputs": [
        {
          "output_type": "stream",
          "text": [
            "263M\tdataset\n",
            "1.1M\tdeploy\n",
            "52K\tmake_rec\n",
            "679M\tmodels\n",
            "4.0K\tmy_model\n",
            "4.0K\tREADME.md\n",
            "176K\ttest\n",
            "1.7M\ttrain\n",
            "4.0K\t程序说明.txt\n"
          ],
          "name": "stdout"
        }
      ]
    },
    {
      "cell_type": "code",
      "metadata": {
        "id": "xVtM5kiBV-Sw",
        "colab_type": "code",
        "colab": {}
      },
      "source": [
        ""
      ],
      "execution_count": 0,
      "outputs": []
    },
    {
      "cell_type": "code",
      "metadata": {
        "id": "l6Z34L7mDm0n",
        "colab_type": "code",
        "outputId": "b715d2fb-62d8-4554-b351-4f7f23dc780a",
        "colab": {
          "base_uri": "https://localhost:8080/",
          "height": 51
        }
      },
      "source": [
        "#%reset"
      ],
      "execution_count": 0,
      "outputs": [
        {
          "output_type": "stream",
          "text": [
            "Once deleted, variables cannot be recovered. Proceed (y/[n])? n\n",
            "Nothing done.\n"
          ],
          "name": "stdout"
        }
      ]
    }
  ]
}